{
 "cells": [
  {
   "cell_type": "markdown",
   "metadata": {},
   "source": [
    "#### Sepehr Rezaee 99242067"
   ]
  },
  {
   "cell_type": "markdown",
   "metadata": {
    "id": "LQn79DSxXMGR"
   },
   "source": [
    "# Fasion MNIST Classifier"
   ]
  },
  {
   "cell_type": "markdown",
   "metadata": {
    "id": "ohVlNg5VXtpY"
   },
   "source": [
    "## Requierments:"
   ]
  },
  {
   "cell_type": "code",
   "execution_count": 4,
   "metadata": {
    "id": "obZ99s-6XyEN"
   },
   "outputs": [],
   "source": [
    "#importing required libraries..\n",
    "import torch\n",
    "import numpy as np\n",
    "import torch.nn as nn\n",
    "import torch.optim as optim\n",
    "import matplotlib.pyplot as plt\n",
    "import torch.nn.functional as F\n",
    "from torchvision import datasets, transforms\n",
    "from torch.utils.data.sampler import  SubsetRandomSampler  #for validation test"
   ]
  },
  {
   "cell_type": "markdown",
   "metadata": {
    "id": "N6mkDfArlGUn"
   },
   "source": [
    "## Enable Cuda"
   ]
  },
  {
   "cell_type": "code",
   "execution_count": 5,
   "metadata": {
    "id": "PzK0RY2clKN0"
   },
   "outputs": [
    {
     "name": "stdout",
     "output_type": "stream",
     "text": [
      "cuda\n"
     ]
    }
   ],
   "source": [
    "if torch.cuda.is_available():  \n",
    "  dev = \"cuda\" \n",
    "else:  \n",
    "  dev = \"cpu\"\n",
    "\n",
    "device = torch.device(dev)\n",
    "print(device)"
   ]
  },
  {
   "cell_type": "markdown",
   "metadata": {
    "id": "AmaDp1V0X_ZU"
   },
   "source": [
    "## Download dataset and divide it into train and test set"
   ]
  },
  {
   "cell_type": "code",
   "execution_count": 6,
   "metadata": {
    "colab": {
     "base_uri": "https://localhost:8080/",
     "height": 451,
     "referenced_widgets": [
      "ee4f01e6a75e46b093ad7a2c913eeedc",
      "70d9961fcf5348b0be6e7b1611bfffe7",
      "09defa97281b48ca9156442e706c04f6",
      "a2036db5108f448fa5a86857ec03ec39",
      "3ffea3f662414dab9a28c1bf4670f343",
      "fd3faf5a6b2b4d41a0571da53e5d4f88",
      "ab613e7cf2ad4a4dab1b770266802348",
      "9102a933c7e340b3abb53467d3967caf",
      "cb2fc6e4b9ed4c36bfc1ca095f1f6fab",
      "ac431a747b5b4f9fae0a69a91e9c1d6d",
      "1da7f36128ae4233953c4886d3ca6821",
      "9d3607a468774b5e93495560368f27fb",
      "3644150957b2468694b7726d6c7a3ee4",
      "e0bea71c045d4e9d8a4202dfad64fc03",
      "9ba487a90b2a4a4785e818087102e9a5",
      "4e35b281e2df49b38fe361a0f651b423",
      "0d43388a60a143b2bfe3b5ecaf9384a4",
      "77df7c1fc8054275bb2797bf3cd5f565",
      "ab66add384a64d8f837e307e66b17d02",
      "e22b670302fc4e3e90df2f056634362c",
      "6dec3606e3d94ca2b50c755ee9acbae6",
      "89bf94ec747447ab83766aa6563c9ebf",
      "90d9324fb9434d77b30fe1565443c862",
      "e6c53878a2394d76b8eaeda93c90a97a",
      "09fb90a2e33c4d0b87157847d3c4352f",
      "edac8003e1914193a515c25219487e9e",
      "1493f599c8c6484e9ab6b08ad3f39c3c",
      "fe629eae9b6b4105aded7ecd52310f69",
      "af11b975a87b421091b1cdb5702b066b",
      "667e2a6eeafa4d159cbb51a17fa65220",
      "8dfad1d20b92499a8a0174f2093612c6",
      "5ee3116349154d0082eefcddc1e5a4ef",
      "7fc25d70877644f1a836c34e79bc11ca",
      "0109328934884b46bd6a8e19d0b97fc2",
      "af4146865a5e480b8962aed440b3cfc0",
      "2f102c1e097542cc954d1cc88d5ce3db",
      "8f398620b0314c319f0325ba949a1a62",
      "d235cfc458df46b58bed60fc9ea3d65d",
      "77458735a4e242f5a310090ca69af281",
      "636029b25363438bb4fa85a73ba8d34e",
      "33e82302c302439a9c58c3fc0d54c0b5",
      "6c607d8cb56248bc8c4edf26501326fb",
      "7fc26bd41dfc401489d3e7c55ae945d5",
      "be46f68cbcfd41b88019415f3cc39ff6"
     ]
    },
    "id": "nQ2eAJXpXA3L",
    "outputId": "f9afdd24-5d39-4fc6-c922-52e9611b1b90"
   },
   "outputs": [],
   "source": [
    "#Define a transform to convert to images to tensor and normalize\n",
    "transform = transforms.Compose([transforms.ToTensor(),\n",
    "                               transforms.Normalize((0.5,),(0.5,),)]) #mean and std have to be sequences (e.g., tuples), therefore we should add a comma after the values\n",
    "                          \n",
    "#Load the data: train and test sets\n",
    "trainset = datasets.FashionMNIST('~/.pytorch/F_MNIST_data', download=True, train=True, transform=transform)\n",
    "testset = datasets.FashionMNIST('~/.pytorch/F_MNIST_data', download=True, train=False, transform=transform)\n",
    "\n",
    "#Preparin for validaion test\n",
    "indices = list(range(len(trainset)))\n",
    "np.random.shuffle(indices)\n",
    "#to get 20% of the train set\n",
    "split = int(np.floor(0.2 * len(trainset)))\n",
    "train_sample = SubsetRandomSampler(indices[:split])\n",
    "valid_sample = SubsetRandomSampler(indices[split:])\n",
    "\n",
    "#Data Loader\n",
    "trainloader = torch.utils.data.DataLoader(trainset, sampler=train_sample, batch_size=64)\n",
    "validloader = torch.utils.data.DataLoader(trainset, sampler=valid_sample, batch_size=64)\n",
    "testloader = torch.utils.data.DataLoader(testset, batch_size=64, shuffle=True)"
   ]
  },
  {
   "cell_type": "code",
   "execution_count": 7,
   "metadata": {
    "colab": {
     "base_uri": "https://localhost:8080/"
    },
    "id": "PFD-_AWDaSyc",
    "outputId": "72eaffb8-8332-456e-871d-fcb9d12fba75"
   },
   "outputs": [
    {
     "name": "stdout",
     "output_type": "stream",
     "text": [
      "<class 'torch.Tensor'>\n",
      "torch.Size([64, 1, 28, 28])\n",
      "torch.Size([64])\n"
     ]
    }
   ],
   "source": [
    "data_iter = iter(trainloader)\n",
    "images, labels = data_iter.next()\n",
    "print(type(images))\n",
    "print(images.shape)\n",
    "print(labels.shape)"
   ]
  },
  {
   "cell_type": "markdown",
   "metadata": {
    "id": "WqjfuTeAc2Gk"
   },
   "source": [
    "## Define basic model"
   ]
  },
  {
   "cell_type": "code",
   "execution_count": 8,
   "metadata": {
    "id": "8UTyK57xbEXn"
   },
   "outputs": [],
   "source": [
    "class Classifier(nn.Module):\n",
    "  def __init__(self):\n",
    "    super().__init__()\n",
    "    self.fc1 = nn.Linear(784, 256)\n",
    "    self.fc2 = nn.Linear(256, 128)\n",
    "    self.fc3 = nn.Linear(128,64)\n",
    "    self.fc4 = nn.Linear(64,10)\n",
    "    #defining the 20% dropout\n",
    "    #self.dropout = nn.Dropout(0.2)\n",
    "\n",
    "  def forward(self,x):\n",
    "    x = x.view(x.shape[0],-1)\n",
    "    x = self.dropout(F.relu(self.fc1(x)))\n",
    "    x = self.dropout(F.relu(self.fc2(x)))\n",
    "    x = self.dropout(F.relu(self.fc3(x)))\n",
    "    #not using dropout on output layer\n",
    "    x = F.log_softmax(self.fc4(x), dim=1)\n",
    "    return x"
   ]
  },
  {
   "cell_type": "markdown",
   "metadata": {
    "id": "ZuSqeG9phuDB"
   },
   "source": [
    "## Train and Test"
   ]
  },
  {
   "cell_type": "code",
   "execution_count": 9,
   "metadata": {},
   "outputs": [
    {
     "name": "stdout",
     "output_type": "stream",
     "text": [
      "Epoch: 1 \tTraining Loss: 0.012826 \tValidation Loss: 0.640286\n",
      "validation loss decreased(inf -->0.640286). Saving Model ...\n",
      "Epoch: 2 \tTraining Loss: 0.009063 \tValidation Loss: 0.597244\n",
      "validation loss decreased(0.640286 -->0.597244). Saving Model ...\n",
      "Epoch: 3 \tTraining Loss: 0.008410 \tValidation Loss: 0.562378\n",
      "validation loss decreased(0.597244 -->0.562378). Saving Model ...\n",
      "Epoch: 4 \tTraining Loss: 0.007671 \tValidation Loss: 0.556502\n",
      "validation loss decreased(0.562378 -->0.556502). Saving Model ...\n",
      "Epoch: 5 \tTraining Loss: 0.007500 \tValidation Loss: 0.500107\n",
      "validation loss decreased(0.556502 -->0.500107). Saving Model ...\n",
      "Epoch: 6 \tTraining Loss: 0.007025 \tValidation Loss: 0.515134\n",
      "Epoch: 7 \tTraining Loss: 0.006828 \tValidation Loss: 0.487111\n",
      "validation loss decreased(0.500107 -->0.487111). Saving Model ...\n",
      "Epoch: 8 \tTraining Loss: 0.006698 \tValidation Loss: 0.483361\n",
      "validation loss decreased(0.487111 -->0.483361). Saving Model ...\n",
      "Epoch: 9 \tTraining Loss: 0.006310 \tValidation Loss: 0.512268\n",
      "Epoch: 10 \tTraining Loss: 0.006017 \tValidation Loss: 0.543974\n",
      "Epoch: 11 \tTraining Loss: 0.006300 \tValidation Loss: 0.517917\n",
      "Epoch: 12 \tTraining Loss: 0.006140 \tValidation Loss: 0.483433\n",
      "Epoch: 13 \tTraining Loss: 0.005979 \tValidation Loss: 0.494939\n",
      "Epoch: 14 \tTraining Loss: 0.005851 \tValidation Loss: 0.496044\n",
      "Epoch: 15 \tTraining Loss: 0.005904 \tValidation Loss: 0.494358\n",
      "Epoch: 16 \tTraining Loss: 0.005589 \tValidation Loss: 0.495638\n",
      "Epoch: 17 \tTraining Loss: 0.005520 \tValidation Loss: 0.482617\n",
      "validation loss decreased(0.483361 -->0.482617). Saving Model ...\n",
      "Epoch: 18 \tTraining Loss: 0.005461 \tValidation Loss: 0.495719\n",
      "Epoch: 19 \tTraining Loss: 0.005379 \tValidation Loss: 0.493428\n",
      "Epoch: 20 \tTraining Loss: 0.005330 \tValidation Loss: 0.532989\n",
      "Epoch: 21 \tTraining Loss: 0.005402 \tValidation Loss: 0.478982\n",
      "validation loss decreased(0.482617 -->0.478982). Saving Model ...\n",
      "Epoch: 22 \tTraining Loss: 0.005136 \tValidation Loss: 0.530478\n",
      "Epoch: 23 \tTraining Loss: 0.004977 \tValidation Loss: 0.504302\n",
      "Epoch: 24 \tTraining Loss: 0.005030 \tValidation Loss: 0.495699\n",
      "Epoch: 25 \tTraining Loss: 0.005224 \tValidation Loss: 0.548452\n",
      "Epoch: 26 \tTraining Loss: 0.005073 \tValidation Loss: 0.622632\n",
      "Epoch: 27 \tTraining Loss: 0.005094 \tValidation Loss: 0.513468\n",
      "Epoch: 28 \tTraining Loss: 0.004882 \tValidation Loss: 0.492834\n",
      "Epoch: 29 \tTraining Loss: 0.004596 \tValidation Loss: 0.515268\n",
      "Epoch: 30 \tTraining Loss: 0.005023 \tValidation Loss: 0.552595\n"
     ]
    }
   ],
   "source": [
    "model = Classifier()\n",
    "#defining the loss function\n",
    "criterion = nn.NLLLoss()\n",
    "optimizer = optim.Adam(model.parameters(), weight_decay=1e-5, lr=0.003)\n",
    "\n",
    "\n",
    "valid_loss_min = np.Inf #using this high value to make sure the update the weight first time\n",
    "epochs = 30\n",
    "steps = 0\n",
    "\n",
    "train_losses, test_losses, valid_losses = [],[],[]\n",
    "for e in range(epochs):\n",
    "  running_loss =0 \n",
    "  valid_loss = 0\n",
    "  for images, labels in trainloader:\n",
    "\n",
    "     optimizer.zero_grad()\n",
    "     log_ps = model(images)\n",
    "     loss = criterion(log_ps, labels)\n",
    "     loss.backward()\n",
    "     optimizer.step()\n",
    "     running_loss += loss.item()\n",
    "\n",
    "  for images, labels in validloader:\n",
    "     log_ps = model(images)\n",
    "     loss = criterion(log_ps, labels)\n",
    "     valid_loss += loss.item()*images.size(0)\n",
    "\n",
    "  running_loss = running_loss/len(trainloader.sampler)\n",
    "  valid_loss =  valid_loss/len(validloader.sampler)\n",
    "  train_losses.append(running_loss)\n",
    "  valid_losses.append(valid_loss)\n",
    "\n",
    "  print('Epoch: {} \\tTraining Loss: {:.6f} \\tValidation Loss: {:.6f}'.format(\n",
    "        e+1,\n",
    "        running_loss,\n",
    "        valid_loss\n",
    "    ))\n",
    "\n",
    "  if valid_loss <= valid_loss_min:\n",
    "      print('validation loss decreased({:.6f} -->{:.6f}). Saving Model ...'.format(valid_loss_min, valid_loss))\n",
    "      torch.save(model.state_dict(), 'model.pt')\n",
    "      valid_loss_min = valid_loss"
   ]
  },
  {
   "cell_type": "markdown",
   "metadata": {
    "id": "VpIWXRKdj2eT"
   },
   "source": [
    "## Part 1"
   ]
  },
  {
   "cell_type": "code",
   "execution_count": 10,
   "metadata": {
    "colab": {
     "base_uri": "https://localhost:8080/",
     "height": 283
    },
    "id": "bfMochcVj_mb",
    "outputId": "822deb6f-3bb5-4f10-d84c-c20af5cbd37c"
   },
   "outputs": [
    {
     "data": {
      "text/plain": [
       "<matplotlib.legend.Legend at 0x1dbe4246520>"
      ]
     },
     "execution_count": 10,
     "metadata": {},
     "output_type": "execute_result"
    },
    {
     "data": {
      "image/png": "[encoded data removed]",
      "text/plain": [
       "<Figure size 432x288 with 1 Axes>"
      ]
     },
     "metadata": {
      "needs_background": "light"
     },
     "output_type": "display_data"
    }
   ],
   "source": [
    "plt.plot(train_losses, label='Train Loss')\n",
    "plt.plot(valid_losses, label='Valid Loss')\n",
    "\n",
    "plt.legend(frameon = False)"
   ]
  },
  {
   "cell_type": "markdown",
   "metadata": {
    "id": "APPrx_yO8QhW"
   },
   "source": [
    "As you can see, our training loss has no moving but validation loss decreased."
   ]
  },
  {
   "cell_type": "markdown",
   "metadata": {
    "id": "4c_7Tank8eMB"
   },
   "source": [
    "## Part 2"
   ]
  },
  {
   "cell_type": "markdown",
   "metadata": {
    "id": "OyfQHvdA8jn7"
   },
   "source": [
    "#### The depths effect"
   ]
  },
  {
   "cell_type": "code",
   "execution_count": 11,
   "metadata": {
    "id": "t1usCfwqrFHt"
   },
   "outputs": [],
   "source": [
    "depth_1 = nn.Sequential(nn.Linear(784, 512),\n",
    "                           nn.ReLU(),\n",
    "                           nn.Linear(512, 256),\n",
    "                           nn.ReLU(),\n",
    "                           nn.Linear(256, 128),\n",
    "                           nn.ReLU(),\n",
    "                           nn.Linear(128, 64),\n",
    "                           nn.ReLU(),\n",
    "                           nn.Linear(64, 10),\n",
    "                           nn.LogSoftmax(dim=1)\n",
    "                           )\n",
    "optimizer_1 = optim.Adam(depth_1.parameters(), weight_decay=1e-5, lr= 0.002)"
   ]
  },
  {
   "cell_type": "code",
   "execution_count": 12,
   "metadata": {
    "id": "ajuGFQgs9kWh"
   },
   "outputs": [],
   "source": [
    "depth_2 = nn.Sequential(nn.Linear(784, 512),\n",
    "                           nn.ReLU(),\n",
    "                           nn.Linear(512, 256),\n",
    "                           nn.ReLU(),\n",
    "                           nn.Linear(256, 128),\n",
    "                           nn.ReLU(),\n",
    "                           nn.Linear(128, 64),\n",
    "                           nn.ReLU(),\n",
    "                           nn.Linear(64, 32),\n",
    "                           nn.ReLU(),\n",
    "                           nn.Linear(32, 10),\n",
    "                           nn.LogSoftmax(dim=1)\n",
    "                           )\n",
    "optimizer_2 = optim.Adam(depth_2.parameters(), weight_decay=1e-5, lr= 0.002)"
   ]
  },
  {
   "cell_type": "code",
   "execution_count": 13,
   "metadata": {
    "id": "QAo9PoeC96Um"
   },
   "outputs": [],
   "source": [
    "depth_3 = nn.Sequential(nn.Linear(784, 512),\n",
    "                           nn.ReLU(),\n",
    "                           nn.Linear(512, 256),\n",
    "                           nn.ReLU(),\n",
    "                           nn.Linear(256, 128),\n",
    "                           nn.ReLU(),\n",
    "                           nn.Linear(128, 64),\n",
    "                           nn.ReLU(),\n",
    "                           nn.Linear(64, 32),\n",
    "                           nn.ReLU(),\n",
    "                           nn.Linear(32, 16),\n",
    "                           nn.ReLU(),\n",
    "                           nn.Linear(16, 10),\n",
    "                           nn.LogSoftmax(dim=1)\n",
    "                           )\n",
    "optimizer_3 = optim.Adam(depth_3.parameters(), weight_decay=1e-5, lr= 0.002)"
   ]
  },
  {
   "cell_type": "code",
   "execution_count": 14,
   "metadata": {
    "id": "7Hd_-azX-Fcd"
   },
   "outputs": [],
   "source": [
    "depth_4 = nn.Sequential(nn.Linear(784, 1024),\n",
    "                           nn.ReLU(),\n",
    "                           nn.Linear(1024, 512),\n",
    "                           nn.ReLU(),\n",
    "                           nn.Linear(512, 256),\n",
    "                           nn.ReLU(),\n",
    "                           nn.Linear(256, 128),\n",
    "                           nn.ReLU(),\n",
    "                           nn.Linear(128, 64),\n",
    "                           nn.ReLU(),\n",
    "                           nn.Linear(64, 32),\n",
    "                           nn.ReLU(),\n",
    "                           nn.Linear(32, 16),\n",
    "                           nn.ReLU(),\n",
    "                           nn.Linear(16, 10),\n",
    "                           nn.LogSoftmax(dim=1)\n",
    "                           )\n",
    "optimizer_4 = optim.Adam(depth_4.parameters(), weight_decay=1e-5, lr= 0.002)"
   ]
  },
  {
   "cell_type": "code",
   "execution_count": 16,
   "metadata": {},
   "outputs": [],
   "source": [
    "def run_model(model, optimizer, epochs):\n",
    "  train_losses, test_losses = [], []\n",
    "\n",
    "  for e in range(epochs):\n",
    "    running_loss = 0\n",
    "    for images, labels in trainloader:\n",
    "      images = images.view(images.shape[0], -1)\n",
    "      \n",
    "      optimizer.zero_grad()\n",
    "      \n",
    "      output = model.forward(images)\n",
    "      loss = criterion(output, labels)\n",
    "      loss.backward()\n",
    "      optimizer.step()\n",
    "      \n",
    "      running_loss += loss.item()\n",
    "    else:\n",
    "      test_loss = 0\n",
    "      accuracy = 0\n",
    "      \n",
    "      with torch.no_grad():\n",
    "        model.eval()\n",
    "        \n",
    "        for images, labels in testloader:\n",
    "          images = images.view(images.shape[0], -1)\n",
    "          log_ps = model(images)\n",
    "          test_loss += criterion(log_ps, labels)\n",
    "          \n",
    "          ps = torch.exp(log_ps)\n",
    "          top_p, top_class = ps.topk(1, dim = 1)\n",
    "          equals = top_class == labels.view(*top_class.shape)\n",
    "          accuracy += torch.mean(equals.type(torch.FloatTensor))\n",
    "      \n",
    "      model.train()\n",
    "      train_losses.append(running_loss/len(trainloader))\n",
    "      test_losses.append(test_loss/len(testloader))\n",
    "      \n",
    "      print(\"Epoch: {}/{}..\".format(e+1, epochs),\n",
    "            \"Training loss: {:.3f}..\".format(running_loss/len(trainloader)),\n",
    "            \"Test loss: {:.3f}..\".format(test_loss/len(testloader)),\n",
    "            \"Test Accuracy: {:.3f}\".format(accuracy/len(testloader)))\n",
    "  return [train_losses, test_losses]"
   ]
  },
  {
   "cell_type": "code",
   "execution_count": 18,
   "metadata": {
    "colab": {
     "base_uri": "https://localhost:8080/"
    },
    "id": "evTUDWGi-h_M",
    "outputId": "374bae50-9b8c-46bc-b0a5-63fbeb034742"
   },
   "outputs": [
    {
     "name": "stdout",
     "output_type": "stream",
     "text": [
      "Running model 0\n",
      "Epoch: 1/15.. Training loss: 0.215.. Test loss: 0.541.. Test Accuracy: 0.831\n",
      "Epoch: 2/15.. Training loss: 0.217.. Test loss: 0.471.. Test Accuracy: 0.862\n",
      "Epoch: 3/15.. Training loss: 0.194.. Test loss: 0.525.. Test Accuracy: 0.847\n",
      "Epoch: 4/15.. Training loss: 0.194.. Test loss: 0.561.. Test Accuracy: 0.845\n",
      "Epoch: 5/15.. Training loss: 0.190.. Test loss: 0.531.. Test Accuracy: 0.850\n",
      "Epoch: 6/15.. Training loss: 0.177.. Test loss: 0.560.. Test Accuracy: 0.854\n",
      "Epoch: 7/15.. Training loss: 0.165.. Test loss: 0.546.. Test Accuracy: 0.848\n",
      "Epoch: 8/15.. Training loss: 0.168.. Test loss: 0.570.. Test Accuracy: 0.854\n",
      "Epoch: 9/15.. Training loss: 0.149.. Test loss: 0.628.. Test Accuracy: 0.847\n",
      "Epoch: 10/15.. Training loss: 0.148.. Test loss: 0.651.. Test Accuracy: 0.840\n",
      "Epoch: 11/15.. Training loss: 0.136.. Test loss: 0.633.. Test Accuracy: 0.852\n",
      "Epoch: 12/15.. Training loss: 0.130.. Test loss: 0.640.. Test Accuracy: 0.852\n",
      "Epoch: 13/15.. Training loss: 0.134.. Test loss: 0.640.. Test Accuracy: 0.858\n",
      "Epoch: 14/15.. Training loss: 0.128.. Test loss: 0.705.. Test Accuracy: 0.846\n",
      "Epoch: 15/15.. Training loss: 0.117.. Test loss: 0.725.. Test Accuracy: 0.848\n",
      "Running model 1\n",
      "Epoch: 1/15.. Training loss: 0.249.. Test loss: 0.520.. Test Accuracy: 0.840\n",
      "Epoch: 2/15.. Training loss: 0.238.. Test loss: 0.503.. Test Accuracy: 0.851\n",
      "Epoch: 3/15.. Training loss: 0.223.. Test loss: 0.508.. Test Accuracy: 0.847\n",
      "Epoch: 4/15.. Training loss: 0.211.. Test loss: 0.530.. Test Accuracy: 0.855\n",
      "Epoch: 5/15.. Training loss: 0.202.. Test loss: 0.610.. Test Accuracy: 0.838\n",
      "Epoch: 6/15.. Training loss: 0.213.. Test loss: 0.555.. Test Accuracy: 0.835\n",
      "Epoch: 7/15.. Training loss: 0.195.. Test loss: 0.522.. Test Accuracy: 0.858\n",
      "Epoch: 8/15.. Training loss: 0.176.. Test loss: 0.556.. Test Accuracy: 0.858\n",
      "Epoch: 9/15.. Training loss: 0.176.. Test loss: 0.607.. Test Accuracy: 0.849\n",
      "Epoch: 10/15.. Training loss: 0.164.. Test loss: 0.622.. Test Accuracy: 0.843\n",
      "Epoch: 11/15.. Training loss: 0.154.. Test loss: 0.593.. Test Accuracy: 0.856\n",
      "Epoch: 12/15.. Training loss: 0.152.. Test loss: 0.572.. Test Accuracy: 0.855\n",
      "Epoch: 13/15.. Training loss: 0.144.. Test loss: 0.612.. Test Accuracy: 0.854\n",
      "Epoch: 14/15.. Training loss: 0.156.. Test loss: 0.584.. Test Accuracy: 0.856\n",
      "Epoch: 15/15.. Training loss: 0.136.. Test loss: 0.626.. Test Accuracy: 0.843\n",
      "Running model 2\n",
      "Epoch: 1/15.. Training loss: 0.601.. Test loss: 0.574.. Test Accuracy: 0.799\n",
      "Epoch: 2/15.. Training loss: 0.522.. Test loss: 0.592.. Test Accuracy: 0.792\n",
      "Epoch: 3/15.. Training loss: 0.465.. Test loss: 0.509.. Test Accuracy: 0.816\n",
      "Epoch: 4/15.. Training loss: 0.429.. Test loss: 0.474.. Test Accuracy: 0.832\n",
      "Epoch: 5/15.. Training loss: 0.395.. Test loss: 0.477.. Test Accuracy: 0.841\n",
      "Epoch: 6/15.. Training loss: 0.375.. Test loss: 0.471.. Test Accuracy: 0.839\n",
      "Epoch: 7/15.. Training loss: 0.365.. Test loss: 0.459.. Test Accuracy: 0.846\n",
      "Epoch: 8/15.. Training loss: 0.327.. Test loss: 0.451.. Test Accuracy: 0.847\n",
      "Epoch: 9/15.. Training loss: 0.319.. Test loss: 0.455.. Test Accuracy: 0.846\n",
      "Epoch: 10/15.. Training loss: 0.312.. Test loss: 0.460.. Test Accuracy: 0.850\n",
      "Epoch: 11/15.. Training loss: 0.293.. Test loss: 0.476.. Test Accuracy: 0.844\n",
      "Epoch: 12/15.. Training loss: 0.289.. Test loss: 0.497.. Test Accuracy: 0.843\n",
      "Epoch: 13/15.. Training loss: 0.272.. Test loss: 0.472.. Test Accuracy: 0.849\n",
      "Epoch: 14/15.. Training loss: 0.275.. Test loss: 0.498.. Test Accuracy: 0.845\n",
      "Epoch: 15/15.. Training loss: 0.261.. Test loss: 0.508.. Test Accuracy: 0.848\n",
      "Running model 3\n",
      "Epoch: 1/15.. Training loss: 1.052.. Test loss: 0.702.. Test Accuracy: 0.738\n",
      "Epoch: 2/15.. Training loss: 0.626.. Test loss: 0.583.. Test Accuracy: 0.795\n",
      "Epoch: 3/15.. Training loss: 0.549.. Test loss: 0.562.. Test Accuracy: 0.800\n",
      "Epoch: 4/15.. Training loss: 0.477.. Test loss: 0.559.. Test Accuracy: 0.814\n",
      "Epoch: 5/15.. Training loss: 0.462.. Test loss: 0.498.. Test Accuracy: 0.828\n",
      "Epoch: 6/15.. Training loss: 0.415.. Test loss: 0.483.. Test Accuracy: 0.827\n",
      "Epoch: 7/15.. Training loss: 0.398.. Test loss: 0.497.. Test Accuracy: 0.831\n",
      "Epoch: 8/15.. Training loss: 0.379.. Test loss: 0.506.. Test Accuracy: 0.841\n",
      "Epoch: 9/15.. Training loss: 0.372.. Test loss: 0.471.. Test Accuracy: 0.840\n",
      "Epoch: 10/15.. Training loss: 0.344.. Test loss: 0.479.. Test Accuracy: 0.843\n",
      "Epoch: 11/15.. Training loss: 0.316.. Test loss: 0.449.. Test Accuracy: 0.845\n",
      "Epoch: 12/15.. Training loss: 0.319.. Test loss: 0.491.. Test Accuracy: 0.844\n",
      "Epoch: 13/15.. Training loss: 0.291.. Test loss: 0.476.. Test Accuracy: 0.845\n",
      "Epoch: 14/15.. Training loss: 0.281.. Test loss: 0.465.. Test Accuracy: 0.852\n",
      "Epoch: 15/15.. Training loss: 0.273.. Test loss: 0.509.. Test Accuracy: 0.839\n"
     ]
    }
   ],
   "source": [
    "trains_losses = []\n",
    "test_losses = []\n",
    "models = [depth_1, depth_2, depth_3, depth_4]\n",
    "optimizers = [optimizer_1, optimizer_2, optimizer_3, optimizer_4]\n",
    "for i in range(4):\n",
    "  print(\"Running model\", i)\n",
    "  results = run_model(models[i], optimizers[i], 15)\n",
    "  trains_losses.append(results[0])\n",
    "  test_losses.append(results[1])"
   ]
  },
  {
   "cell_type": "code",
   "execution_count": 20,
   "metadata": {
    "colab": {
     "base_uri": "https://localhost:8080/",
     "height": 283
    },
    "id": "W0TcUyq4_JAG",
    "outputId": "a2f3dbfe-ee7e-485b-e0c8-737186b84153"
   },
   "outputs": [
    {
     "data": {
      "text/plain": [
       "<matplotlib.legend.Legend at 0x1dbeee0ffa0>"
      ]
     },
     "execution_count": 20,
     "metadata": {},
     "output_type": "execute_result"
    },
    {
     "data": {
      "image/png": "[encoded data removed]",
      "text/plain": [
       "<Figure size 432x288 with 1 Axes>"
      ]
     },
     "metadata": {
      "needs_background": "light"
     },
     "output_type": "display_data"
    }
   ],
   "source": [
    "plt.plot(results[0], label = \"T loss depth 0\")\n",
    "plt.plot(results[1], label = \"V loss depth 0\")\n",
    "plt.plot(trains_losses[0], label = \"T loss depth 1\")\n",
    "plt.plot(test_losses[0], label = \"V loss depth 1\")\n",
    "plt.plot(trains_losses[1], label = \"T loss depth 2\")\n",
    "plt.plot(test_losses[1], label = \"V loss depth 2\")\n",
    "plt.plot(trains_losses[2], label = \"T loss depth 3\")\n",
    "plt.plot(test_losses[2], label = \"V loss depth 3\")\n",
    "plt.plot(trains_losses[3], label = \"T loss depth 4\")\n",
    "plt.plot(trains_losses[3], label = \"V loss depth 4\")\n",
    "plt.legend(frameon = False)"
   ]
  },
  {
   "cell_type": "markdown",
   "metadata": {
    "id": "xZH6L1aRJOCd"
   },
   "source": [
    "According to the abot chart, we have just one optimized network for FASHION Mnist task."
   ]
  },
  {
   "cell_type": "markdown",
   "metadata": {
    "id": "8y5N4DVsJirA"
   },
   "source": [
    "## Part 3"
   ]
  },
  {
   "cell_type": "code",
   "execution_count": 21,
   "metadata": {
    "id": "Xase821HJEm5"
   },
   "outputs": [],
   "source": [
    "model_with_drop = nn.Sequential(nn.Linear(784, 256),\n",
    "                           nn.ReLU(),\n",
    "                           nn.Dropout(0.25),\n",
    "                           nn.Linear(256, 128),\n",
    "                           nn.ReLU(),\n",
    "                           nn.Dropout(0.3),\n",
    "                           nn.Linear(128, 64),\n",
    "                           nn.ReLU(),\n",
    "                           nn.Dropout(0.5),\n",
    "                           nn.Linear(64, 10),\n",
    "                           nn.LogSoftmax(dim=1)\n",
    "                           )\n",
    "optimizer_model_drop = optim.Adam(model_with_drop.parameters(), weight_decay=1e-5, lr= 0.002)"
   ]
  },
  {
   "cell_type": "code",
   "execution_count": 22,
   "metadata": {
    "colab": {
     "base_uri": "https://localhost:8080/"
    },
    "id": "LYUNFhW0J9fQ",
    "outputId": "ba91102c-7997-4c6a-e9ab-dc6f16705993"
   },
   "outputs": [
    {
     "name": "stdout",
     "output_type": "stream",
     "text": [
      "Epoch: 1/20.. Training loss: 1.004.. Test loss: 0.596.. Test Accuracy: 0.773\n",
      "Epoch: 2/20.. Training loss: 0.661.. Test loss: 0.542.. Test Accuracy: 0.803\n",
      "Epoch: 3/20.. Training loss: 0.591.. Test loss: 0.511.. Test Accuracy: 0.813\n",
      "Epoch: 4/20.. Training loss: 0.556.. Test loss: 0.505.. Test Accuracy: 0.818\n",
      "Epoch: 5/20.. Training loss: 0.531.. Test loss: 0.501.. Test Accuracy: 0.821\n",
      "Epoch: 6/20.. Training loss: 0.505.. Test loss: 0.515.. Test Accuracy: 0.819\n",
      "Epoch: 7/20.. Training loss: 0.490.. Test loss: 0.485.. Test Accuracy: 0.829\n",
      "Epoch: 8/20.. Training loss: 0.468.. Test loss: 0.471.. Test Accuracy: 0.829\n",
      "Epoch: 9/20.. Training loss: 0.451.. Test loss: 0.492.. Test Accuracy: 0.826\n",
      "Epoch: 10/20.. Training loss: 0.445.. Test loss: 0.462.. Test Accuracy: 0.840\n",
      "Epoch: 11/20.. Training loss: 0.434.. Test loss: 0.455.. Test Accuracy: 0.846\n",
      "Epoch: 12/20.. Training loss: 0.430.. Test loss: 0.455.. Test Accuracy: 0.840\n",
      "Epoch: 13/20.. Training loss: 0.408.. Test loss: 0.465.. Test Accuracy: 0.847\n",
      "Epoch: 14/20.. Training loss: 0.418.. Test loss: 0.463.. Test Accuracy: 0.842\n",
      "Epoch: 15/20.. Training loss: 0.407.. Test loss: 0.442.. Test Accuracy: 0.845\n",
      "Epoch: 16/20.. Training loss: 0.393.. Test loss: 0.466.. Test Accuracy: 0.843\n",
      "Epoch: 17/20.. Training loss: 0.382.. Test loss: 0.460.. Test Accuracy: 0.845\n",
      "Epoch: 18/20.. Training loss: 0.395.. Test loss: 0.483.. Test Accuracy: 0.837\n",
      "Epoch: 19/20.. Training loss: 0.385.. Test loss: 0.445.. Test Accuracy: 0.851\n",
      "Epoch: 20/20.. Training loss: 0.368.. Test loss: 0.486.. Test Accuracy: 0.835\n"
     ]
    }
   ],
   "source": [
    "results_of_model_drop = run_model(model_with_drop, optimizer_model_drop, 20)"
   ]
  },
  {
   "cell_type": "code",
   "execution_count": 24,
   "metadata": {
    "colab": {
     "base_uri": "https://localhost:8080/",
     "height": 283
    },
    "id": "sW0NtwzhKFOv",
    "outputId": "ea33ecd7-5af2-47ba-ea22-4821a04f8c2c"
   },
   "outputs": [
    {
     "data": {
      "text/plain": [
       "<matplotlib.legend.Legend at 0x1dbefef0700>"
      ]
     },
     "execution_count": 24,
     "metadata": {},
     "output_type": "execute_result"
    },
    {
     "data": {
      "image/png": "[encoded data removed]",
      "text/plain": [
       "<Figure size 432x288 with 1 Axes>"
      ]
     },
     "metadata": {
      "needs_background": "light"
     },
     "output_type": "display_data"
    }
   ],
   "source": [
    "plt.plot(results_of_model_drop[0], label = \"T loss with dropout\")\n",
    "plt.plot(results_of_model_drop[1], label = \"V loss with dropout\")\n",
    "plt.plot(results[0], label = \"T loss without dropout\")\n",
    "plt.plot(results[1], label = \"V loss without dropout\")\n",
    "plt.legend(frameon = False)"
   ]
  },
  {
   "cell_type": "markdown",
   "metadata": {
    "id": "NaWhsCkhLlwz"
   },
   "source": [
    "Our modeling has better result when we use drop-out technique."
   ]
  },
  {
   "cell_type": "markdown",
   "metadata": {
    "id": "gke1QO2OLy7w"
   },
   "source": [
    "## Part 4"
   ]
  },
  {
   "cell_type": "markdown",
   "metadata": {
    "id": "if5C4cQFMMiT"
   },
   "source": [
    "#### Early stopping"
   ]
  },
  {
   "cell_type": "code",
   "execution_count": 25,
   "metadata": {
    "id": "i9oOfc1_Khgg"
   },
   "outputs": [],
   "source": [
    "class EarlyStopper:\n",
    "  def __init__(self, patience=1, min_delta=0):\n",
    "      self.patience = patience\n",
    "      self.min_delta = min_delta\n",
    "      self.counter = 0\n",
    "      self.min_validation_loss = np.inf\n",
    "\n",
    "  def early_stop(self, validation_loss):\n",
    "      if validation_loss < self.min_validation_loss:\n",
    "          self.min_validation_loss = validation_loss\n",
    "          self.counter = 0\n",
    "      elif validation_loss > (self.min_validation_loss + self.min_delta):\n",
    "          self.counter += 1\n",
    "          if self.counter >= self.patience:\n",
    "              return True\n",
    "      return False"
   ]
  },
  {
   "cell_type": "code",
   "execution_count": 26,
   "metadata": {
    "id": "syNYHQRFMVXP"
   },
   "outputs": [],
   "source": [
    "def run_model_early_stop(model, optimizer, epochs):\n",
    "  train_losses, test_losses = [], []\n",
    "\n",
    "  early_stopper = EarlyStopper(3, 10)\n",
    "  for e in range(epochs):\n",
    "    running_loss = 0\n",
    "    for images, labels in trainloader:\n",
    "      images = images.view(images.shape[0], -1)\n",
    "      \n",
    "      optimizer.zero_grad()\n",
    "      \n",
    "      output = model.forward(images)\n",
    "      loss = criterion(output, labels)\n",
    "      loss.backward()\n",
    "      optimizer.step()\n",
    "      \n",
    "      running_loss += loss.item()\n",
    "    else:\n",
    "      test_loss = 0\n",
    "      accuracy = 0\n",
    "      \n",
    "      with torch.no_grad():\n",
    "        model.eval()\n",
    "        \n",
    "        for images, labels in testloader:\n",
    "          images = images.view(images.shape[0], -1)\n",
    "          log_ps = model(images)\n",
    "          test_loss += criterion(log_ps, labels)\n",
    "          \n",
    "          ps = torch.exp(log_ps)\n",
    "          top_p, top_class = ps.topk(1, dim = 1)\n",
    "          equals = top_class == labels.view(*top_class.shape)\n",
    "          accuracy += torch.mean(equals.type(torch.FloatTensor))\n",
    "      \n",
    "      model.train()\n",
    "      train_losses.append(running_loss/len(trainloader))\n",
    "      test_losses.append(test_loss/len(testloader))\n",
    "      if early_stopper.early_stop(test_loss):\n",
    "        print(\"Early stop has been triggered!\")\n",
    "        break\n",
    "\n",
    "      \n",
    "      print(\"Epoch: {}/{}..\".format(e+1, epochs),\n",
    "            \"Training loss: {:.3f}..\".format(running_loss/len(trainloader)),\n",
    "            \"Test loss: {:.3f}..\".format(test_loss/len(testloader)),\n",
    "            \"Test Accuracy: {:.3f}\".format(accuracy/len(testloader)))\n",
    "  return [train_losses, test_losses]"
   ]
  },
  {
   "cell_type": "code",
   "execution_count": 28,
   "metadata": {
    "colab": {
     "base_uri": "https://localhost:8080/"
    },
    "id": "vZCKjI4CNd2_",
    "outputId": "45ef6ace-6509-4239-e984-1b37cb0577df"
   },
   "outputs": [
    {
     "name": "stdout",
     "output_type": "stream",
     "text": [
      "Epoch: 1/20.. Training loss: 0.116.. Test loss: 0.771.. Test Accuracy: 0.846\n",
      "Epoch: 2/20.. Training loss: 0.117.. Test loss: 0.668.. Test Accuracy: 0.846\n",
      "Epoch: 3/20.. Training loss: 0.095.. Test loss: 0.692.. Test Accuracy: 0.847\n",
      "Epoch: 4/20.. Training loss: 0.112.. Test loss: 0.832.. Test Accuracy: 0.831\n",
      "Epoch: 5/20.. Training loss: 0.130.. Test loss: 0.675.. Test Accuracy: 0.853\n",
      "Epoch: 6/20.. Training loss: 0.102.. Test loss: 0.658.. Test Accuracy: 0.855\n",
      "Epoch: 7/20.. Training loss: 0.085.. Test loss: 0.738.. Test Accuracy: 0.853\n",
      "Epoch: 8/20.. Training loss: 0.096.. Test loss: 0.737.. Test Accuracy: 0.849\n",
      "Early stop has been triggered!\n"
     ]
    }
   ],
   "source": [
    "results_early = run_model_early_stop(depth_1, optimizer_1, 20)"
   ]
  },
  {
   "cell_type": "code",
   "execution_count": 30,
   "metadata": {
    "colab": {
     "base_uri": "https://localhost:8080/",
     "height": 283
    },
    "id": "0vxXnVshNl26",
    "outputId": "458f9edc-9052-4bb6-fae1-d407a66cd07d"
   },
   "outputs": [
    {
     "data": {
      "text/plain": [
       "<matplotlib.legend.Legend at 0x1dbf0f62670>"
      ]
     },
     "execution_count": 30,
     "metadata": {},
     "output_type": "execute_result"
    },
    {
     "data": {
      "image/png": "[encoded data removed]",
      "text/plain": [
       "<Figure size 432x288 with 1 Axes>"
      ]
     },
     "metadata": {
      "needs_background": "light"
     },
     "output_type": "display_data"
    }
   ],
   "source": [
    "plt.plot(results[0], label = \"T loss without early stopping\")\n",
    "plt.plot(results[1], label = \"V loss without early stopping\")\n",
    "plt.plot(results_early[0], label = \"T loss with early stopping\")\n",
    "plt.plot(results_early[1], label = \"V loss with early stopping\")\n",
    "plt.legend(frameon = False)"
   ]
  },
  {
   "cell_type": "markdown",
   "metadata": {
    "id": "iceSQCRAPlQV"
   },
   "source": [
    "Early stopping helped us to prevent model from overlearning and overfitting on data and reduce number of epochs that we need to feed forward and do back-propagation "
   ]
  },
  {
   "cell_type": "markdown",
   "metadata": {
    "id": "Tk0tfwVjQWfo"
   },
   "source": [
    "## Part 5"
   ]
  },
  {
   "cell_type": "code",
   "execution_count": 31,
   "metadata": {
    "id": "MwDiPimnPiqv"
   },
   "outputs": [],
   "source": [
    "model_part5 = nn.Sequential(nn.Linear(784, 256),\n",
    "                           nn.ReLU(),\n",
    "                           nn.Dropout(0.25),\n",
    "                           nn.BatchNorm1d(256),\n",
    "                           nn.Linear(256, 128),\n",
    "                           nn.ReLU(),\n",
    "                           nn.Dropout(0.3),\n",
    "                           nn.BatchNorm1d(128),\n",
    "                           nn.Linear(128, 64),\n",
    "                           nn.ReLU(),\n",
    "                           nn.Dropout(0.5),\n",
    "                           nn.BatchNorm1d(64),\n",
    "                           nn.Linear(64, 10),\n",
    "                           nn.LogSoftmax(dim=1)\n",
    "                           )\n",
    "optimizer_part5 = optim.Adam(model_part5.parameters(), weight_decay=1e-5, lr= 0.002)"
   ]
  },
  {
   "cell_type": "code",
   "execution_count": 32,
   "metadata": {
    "colab": {
     "base_uri": "https://localhost:8080/"
    },
    "id": "c82CSB8sRQUy",
    "outputId": "3ee2571c-deaa-4031-fae3-cd49b2d97fff"
   },
   "outputs": [
    {
     "name": "stdout",
     "output_type": "stream",
     "text": [
      "Epoch: 1/20.. Training loss: 1.027.. Test loss: 0.628.. Test Accuracy: 0.785\n",
      "Epoch: 2/20.. Training loss: 0.704.. Test loss: 0.668.. Test Accuracy: 0.787\n",
      "Epoch: 3/20.. Training loss: 0.659.. Test loss: 0.734.. Test Accuracy: 0.812\n",
      "Epoch: 4/20.. Training loss: 0.629.. Test loss: 0.680.. Test Accuracy: 0.810\n",
      "Epoch: 5/20.. Training loss: 0.589.. Test loss: 0.675.. Test Accuracy: 0.813\n",
      "Epoch: 6/20.. Training loss: 0.572.. Test loss: 0.697.. Test Accuracy: 0.811\n",
      "Epoch: 7/20.. Training loss: 0.575.. Test loss: 0.679.. Test Accuracy: 0.822\n",
      "Epoch: 8/20.. Training loss: 0.555.. Test loss: 0.675.. Test Accuracy: 0.818\n",
      "Epoch: 9/20.. Training loss: 0.548.. Test loss: 0.687.. Test Accuracy: 0.814\n",
      "Epoch: 10/20.. Training loss: 0.549.. Test loss: 0.639.. Test Accuracy: 0.827\n",
      "Epoch: 11/20.. Training loss: 0.542.. Test loss: 0.591.. Test Accuracy: 0.830\n",
      "Epoch: 12/20.. Training loss: 0.520.. Test loss: 0.543.. Test Accuracy: 0.834\n",
      "Epoch: 13/20.. Training loss: 0.510.. Test loss: 0.600.. Test Accuracy: 0.835\n",
      "Epoch: 14/20.. Training loss: 0.497.. Test loss: 0.807.. Test Accuracy: 0.826\n",
      "Epoch: 15/20.. Training loss: 0.508.. Test loss: 0.725.. Test Accuracy: 0.830\n",
      "Epoch: 16/20.. Training loss: 0.497.. Test loss: 0.726.. Test Accuracy: 0.841\n",
      "Epoch: 17/20.. Training loss: 0.496.. Test loss: 0.703.. Test Accuracy: 0.836\n",
      "Epoch: 18/20.. Training loss: 0.471.. Test loss: 0.583.. Test Accuracy: 0.844\n",
      "Epoch: 19/20.. Training loss: 0.470.. Test loss: 0.656.. Test Accuracy: 0.836\n",
      "Epoch: 20/20.. Training loss: 0.480.. Test loss: 0.544.. Test Accuracy: 0.843\n"
     ]
    }
   ],
   "source": [
    "batch_results = run_model(model_part5, optimizer_part5, 20)"
   ]
  },
  {
   "cell_type": "code",
   "execution_count": 33,
   "metadata": {
    "colab": {
     "base_uri": "https://localhost:8080/",
     "height": 283
    },
    "id": "o_ndRBDFRdyC",
    "outputId": "e2f75403-6f46-4638-cefe-b274104c90d3"
   },
   "outputs": [
    {
     "data": {
      "text/plain": [
       "<matplotlib.legend.Legend at 0x1dbefe64190>"
      ]
     },
     "execution_count": 33,
     "metadata": {},
     "output_type": "execute_result"
    },
    {
     "data": {
      "image/png": "[encoded data removed]",
      "text/plain": [
       "<Figure size 432x288 with 1 Axes>"
      ]
     },
     "metadata": {
      "needs_background": "light"
     },
     "output_type": "display_data"
    }
   ],
   "source": [
    "plt.plot(results[0], label = \"T loss without batch normal\")\n",
    "plt.plot(results[1], label = \"V loss without batch normal\")\n",
    "plt.plot(batch_results[0], label = \"T loss with batch normal\")\n",
    "plt.plot(batch_results[1], label = \"V loss with batch normal\")\n",
    "plt.legend(frameon = False)"
   ]
  },
  {
   "cell_type": "markdown",
   "metadata": {
    "id": "hvuWFpy1R9eE"
   },
   "source": [
    "Based on the above plot, batch normalization could help out to increasing accuracy smothly."
   ]
  },
  {
   "cell_type": "markdown",
   "metadata": {
    "id": "Hlfz9MTKUWSZ"
   },
   "source": [
    "## Part 6"
   ]
  },
  {
   "cell_type": "code",
   "execution_count": 34,
   "metadata": {
    "id": "GsxnLPwjR5zI"
   },
   "outputs": [],
   "source": [
    "def run_model_L2(model, optimizer, epochs, alpha):\n",
    "  train_losses, test_losses = [], []\n",
    "  for e in range(epochs):\n",
    "    running_loss = 0\n",
    "    for images, labels in trainloader:\n",
    "      images = images.view(images.shape[0], -1)\n",
    "      \n",
    "      optimizer.zero_grad()\n",
    "      l2_reg = None\n",
    "      for i in model.named_parameters():\n",
    "        if l2_reg is None:\n",
    "          l2_reg = torch.sum(i[1].norm(2) ** 2)\n",
    "        else:\n",
    "          l2_reg += torch.sum(i[1].norm(2) ** 2)\n",
    "      output = model.forward(images)\n",
    "      loss = criterion(output, labels)\n",
    "      loss += alpha * l2_reg\n",
    "      loss.backward()\n",
    "      optimizer.step()\n",
    "      \n",
    "      running_loss += loss.item()\n",
    "    else:\n",
    "      test_loss = 0\n",
    "      accuracy = 0\n",
    "      \n",
    "      with torch.no_grad():\n",
    "        model.eval()\n",
    "        \n",
    "        for images, labels in testloader:\n",
    "          images = images.view(images.shape[0], -1)\n",
    "          log_ps = model(images)\n",
    "          test_loss += criterion(log_ps, labels)\n",
    "          \n",
    "          ps = torch.exp(log_ps)\n",
    "          top_p, top_class = ps.topk(1, dim = 1)\n",
    "          equals = top_class == labels.view(*top_class.shape)\n",
    "          accuracy += torch.mean(equals.type(torch.FloatTensor))\n",
    "      \n",
    "      model.train()\n",
    "      train_losses.append(running_loss/len(trainloader))\n",
    "      test_losses.append(test_loss/len(testloader))\n",
    "      \n",
    "      print(\"Epoch: {}/{}..\".format(e+1, epochs),\n",
    "            \"Training loss: {:.3f}..\".format(running_loss/len(trainloader)),\n",
    "            \"Test loss: {:.3f}..\".format(test_loss/len(testloader)),\n",
    "            \"Test Accuracy: {:.3f}\".format(accuracy/len(testloader)))\n",
    "  return [train_losses, test_losses]"
   ]
  },
  {
   "cell_type": "code",
   "execution_count": 35,
   "metadata": {
    "id": "Yp9B6NytVLGE"
   },
   "outputs": [],
   "source": [
    "def run_model_L1(model, optimizer, epochs, alpha):\n",
    "  train_losses, test_losses = [], []\n",
    "  for e in range(epochs):\n",
    "    running_loss = 0\n",
    "    for images, labels in trainloader:\n",
    "      images = images.view(images.shape[0], -1)\n",
    "      \n",
    "      optimizer.zero_grad()\n",
    "      \n",
    "      l1_reg = None\n",
    "      for i in model.named_parameters():\n",
    "        if l1_reg is None:\n",
    "          l1_reg = torch.sum(i[1].__abs__())\n",
    "        else:\n",
    "          l1_reg += torch.sum(i[1].__abs__())\n",
    "\n",
    "      output = model.forward(images)\n",
    "      loss = criterion(output, labels)\n",
    "      loss = loss + alpha * l1_reg\n",
    "      loss.backward()\n",
    "      optimizer.step()\n",
    "      \n",
    "      running_loss += loss.item()\n",
    "    else:\n",
    "      test_loss = 0\n",
    "      accuracy = 0\n",
    "      \n",
    "      with torch.no_grad():\n",
    "        model.eval()\n",
    "        \n",
    "        for images, labels in testloader:\n",
    "          images = images.view(images.shape[0], -1)\n",
    "          log_ps = model(images)\n",
    "          test_loss += criterion(log_ps, labels)\n",
    "          \n",
    "          ps = torch.exp(log_ps)\n",
    "          top_p, top_class = ps.topk(1, dim = 1)\n",
    "          equals = top_class == labels.view(*top_class.shape)\n",
    "          accuracy += torch.mean(equals.type(torch.FloatTensor))\n",
    "      \n",
    "      model.train()\n",
    "      train_losses.append(running_loss/len(trainloader))\n",
    "      test_losses.append(test_loss/len(testloader))\n",
    "      \n",
    "      print(\"Epoch: {}/{}..\".format(e+1, epochs),\n",
    "            \"Training loss: {:.3f}..\".format(running_loss/len(trainloader)),\n",
    "            \"Test loss: {:.3f}..\".format(test_loss/len(testloader)),\n",
    "            \"Test Accuracy: {:.3f}\".format(accuracy/len(testloader)))\n",
    "  return [train_losses, test_losses]"
   ]
  },
  {
   "cell_type": "code",
   "execution_count": 36,
   "metadata": {
    "colab": {
     "base_uri": "https://localhost:8080/"
    },
    "id": "ASR7-rwlVPd5",
    "outputId": "0f3cc69f-4621-4fe8-f1fa-ba16b42e6afe"
   },
   "outputs": [
    {
     "name": "stdout",
     "output_type": "stream",
     "text": [
      "Epoch: 1/20.. Training loss: 0.583.. Test loss: 0.733.. Test Accuracy: 0.852\n",
      "Epoch: 2/20.. Training loss: 0.504.. Test loss: 0.701.. Test Accuracy: 0.845\n",
      "Epoch: 3/20.. Training loss: 0.462.. Test loss: 0.696.. Test Accuracy: 0.851\n",
      "Epoch: 4/20.. Training loss: 0.415.. Test loss: 0.715.. Test Accuracy: 0.849\n",
      "Epoch: 5/20.. Training loss: 0.398.. Test loss: 0.679.. Test Accuracy: 0.854\n",
      "Epoch: 6/20.. Training loss: 0.373.. Test loss: 0.717.. Test Accuracy: 0.858\n",
      "Epoch: 7/20.. Training loss: 0.370.. Test loss: 0.617.. Test Accuracy: 0.855\n",
      "Epoch: 8/20.. Training loss: 0.350.. Test loss: 0.677.. Test Accuracy: 0.853\n",
      "Epoch: 9/20.. Training loss: 0.351.. Test loss: 0.602.. Test Accuracy: 0.856\n",
      "Epoch: 10/20.. Training loss: 0.323.. Test loss: 0.659.. Test Accuracy: 0.850\n",
      "Epoch: 11/20.. Training loss: 0.322.. Test loss: 0.621.. Test Accuracy: 0.853\n",
      "Epoch: 12/20.. Training loss: 0.323.. Test loss: 0.661.. Test Accuracy: 0.845\n",
      "Epoch: 13/20.. Training loss: 0.295.. Test loss: 0.694.. Test Accuracy: 0.848\n",
      "Epoch: 14/20.. Training loss: 0.317.. Test loss: 0.629.. Test Accuracy: 0.848\n",
      "Epoch: 15/20.. Training loss: 0.307.. Test loss: 0.582.. Test Accuracy: 0.852\n",
      "Epoch: 16/20.. Training loss: 0.293.. Test loss: 0.722.. Test Accuracy: 0.833\n",
      "Epoch: 17/20.. Training loss: 0.293.. Test loss: 0.585.. Test Accuracy: 0.852\n",
      "Epoch: 18/20.. Training loss: 0.285.. Test loss: 0.613.. Test Accuracy: 0.848\n",
      "Epoch: 19/20.. Training loss: 0.296.. Test loss: 0.594.. Test Accuracy: 0.846\n",
      "Epoch: 20/20.. Training loss: 0.261.. Test loss: 0.664.. Test Accuracy: 0.855\n"
     ]
    }
   ],
   "source": [
    "l2_results = run_model_L2(depth_1, optimizer_1, 20, 1e-4)"
   ]
  },
  {
   "cell_type": "code",
   "execution_count": 37,
   "metadata": {
    "id": "g1O7on-WsPuo"
   },
   "outputs": [],
   "source": [
    "model2 = nn.Sequential(nn.Linear(784, 256),\n",
    "                           nn.ReLU(),\n",
    "                           nn.Linear(256, 128),\n",
    "                           nn.ReLU(),\n",
    "                           nn.Linear(128, 64),\n",
    "                           nn.ReLU(),\n",
    "                           nn.Linear(64, 10),\n",
    "                           nn.LogSoftmax(dim=1)\n",
    "                           )\n",
    "criterion = nn.NLLLoss()\n",
    "optimizer2 = optim.Adam(model2.parameters(), weight_decay=1e-5, lr= 0.002)"
   ]
  },
  {
   "cell_type": "code",
   "execution_count": 38,
   "metadata": {
    "colab": {
     "base_uri": "https://localhost:8080/"
    },
    "id": "W0WAKai8VdFe",
    "outputId": "776ee760-8561-4c49-bd64-fd37f3955b11"
   },
   "outputs": [
    {
     "name": "stdout",
     "output_type": "stream",
     "text": [
      "Epoch: 1/30.. Training loss: 1.102.. Test loss: 0.589.. Test Accuracy: 0.775\n",
      "Epoch: 2/30.. Training loss: 0.808.. Test loss: 0.545.. Test Accuracy: 0.798\n",
      "Epoch: 3/30.. Training loss: 0.761.. Test loss: 0.507.. Test Accuracy: 0.820\n",
      "Epoch: 4/30.. Training loss: 0.701.. Test loss: 0.486.. Test Accuracy: 0.822\n",
      "Epoch: 5/30.. Training loss: 0.641.. Test loss: 0.480.. Test Accuracy: 0.818\n",
      "Epoch: 6/30.. Training loss: 0.624.. Test loss: 0.523.. Test Accuracy: 0.804\n",
      "Epoch: 7/30.. Training loss: 0.591.. Test loss: 0.514.. Test Accuracy: 0.816\n",
      "Epoch: 8/30.. Training loss: 0.578.. Test loss: 0.466.. Test Accuracy: 0.832\n",
      "Epoch: 9/30.. Training loss: 0.550.. Test loss: 0.495.. Test Accuracy: 0.822\n",
      "Epoch: 10/30.. Training loss: 0.540.. Test loss: 0.486.. Test Accuracy: 0.828\n",
      "Epoch: 11/30.. Training loss: 0.516.. Test loss: 0.461.. Test Accuracy: 0.841\n",
      "Epoch: 12/30.. Training loss: 0.529.. Test loss: 0.462.. Test Accuracy: 0.835\n",
      "Epoch: 13/30.. Training loss: 0.510.. Test loss: 0.471.. Test Accuracy: 0.836\n",
      "Epoch: 14/30.. Training loss: 0.501.. Test loss: 0.438.. Test Accuracy: 0.845\n",
      "Epoch: 15/30.. Training loss: 0.489.. Test loss: 0.505.. Test Accuracy: 0.823\n",
      "Epoch: 16/30.. Training loss: 0.478.. Test loss: 0.471.. Test Accuracy: 0.836\n",
      "Epoch: 17/30.. Training loss: 0.474.. Test loss: 0.454.. Test Accuracy: 0.841\n",
      "Epoch: 18/30.. Training loss: 0.466.. Test loss: 0.471.. Test Accuracy: 0.838\n",
      "Epoch: 19/30.. Training loss: 0.464.. Test loss: 0.465.. Test Accuracy: 0.844\n",
      "Epoch: 20/30.. Training loss: 0.464.. Test loss: 0.473.. Test Accuracy: 0.843\n",
      "Epoch: 21/30.. Training loss: 0.461.. Test loss: 0.508.. Test Accuracy: 0.828\n",
      "Epoch: 22/30.. Training loss: 0.445.. Test loss: 0.449.. Test Accuracy: 0.846\n",
      "Epoch: 23/30.. Training loss: 0.458.. Test loss: 0.467.. Test Accuracy: 0.843\n",
      "Epoch: 24/30.. Training loss: 0.440.. Test loss: 0.514.. Test Accuracy: 0.832\n",
      "Epoch: 25/30.. Training loss: 0.449.. Test loss: 0.460.. Test Accuracy: 0.848\n",
      "Epoch: 26/30.. Training loss: 0.436.. Test loss: 0.470.. Test Accuracy: 0.841\n",
      "Epoch: 27/30.. Training loss: 0.431.. Test loss: 0.489.. Test Accuracy: 0.848\n",
      "Epoch: 28/30.. Training loss: 0.431.. Test loss: 0.464.. Test Accuracy: 0.844\n",
      "Epoch: 29/30.. Training loss: 0.447.. Test loss: 0.522.. Test Accuracy: 0.827\n",
      "Epoch: 30/30.. Training loss: 0.439.. Test loss: 0.475.. Test Accuracy: 0.838\n"
     ]
    }
   ],
   "source": [
    "l1_results = run_model_L1(model2, optimizer2, 30, 0.0001)"
   ]
  },
  {
   "cell_type": "code",
   "execution_count": 39,
   "metadata": {
    "colab": {
     "base_uri": "https://localhost:8080/",
     "height": 283
    },
    "id": "CUds5k2UD-mQ",
    "outputId": "6816bfdd-cfe8-4750-a152-5c8db60f33b0"
   },
   "outputs": [
    {
     "data": {
      "text/plain": [
       "<matplotlib.legend.Legend at 0x1dbf103e9d0>"
      ]
     },
     "execution_count": 39,
     "metadata": {},
     "output_type": "execute_result"
    },
    {
     "data": {
      "image/png": "[encoded data removed]",
      "text/plain": [
       "<Figure size 432x288 with 1 Axes>"
      ]
     },
     "metadata": {
      "needs_background": "light"
     },
     "output_type": "display_data"
    }
   ],
   "source": [
    "plt.plot(l1_results[0], label = \"T loss L1\")\n",
    "plt.plot(l1_results[1], label = \"V loss L1\")\n",
    "plt.plot(l2_results[0], label = \"T loss L2\")\n",
    "plt.plot(l2_results[1], label = \"V loss L2\")\n",
    "plt.legend(frameon = False)"
   ]
  },
  {
   "cell_type": "code",
   "execution_count": 40,
   "metadata": {
    "id": "SoVbdybHMwkl"
   },
   "outputs": [],
   "source": [
    "model_l2 = nn.Sequential(nn.Linear(784, 256),\n",
    "                           nn.ReLU(),\n",
    "                           nn.Linear(256, 128),\n",
    "                           nn.ReLU(),\n",
    "                           nn.Linear(128, 64),\n",
    "                           nn.ReLU(),\n",
    "                           nn.Linear(64, 10),\n",
    "                           nn.LogSoftmax(dim=1)\n",
    "                           )\n",
    "criterion = nn.NLLLoss()\n",
    "optimizer_l2 = optim.Adam(model_l2.parameters(), weight_decay=1e-5, lr= 0.002)"
   ]
  },
  {
   "cell_type": "code",
   "execution_count": 41,
   "metadata": {
    "colab": {
     "base_uri": "https://localhost:8080/"
    },
    "id": "qahOWw_INMXb",
    "outputId": "8f44c577-6539-4923-c889-17a222aae4cd"
   },
   "outputs": [
    {
     "name": "stdout",
     "output_type": "stream",
     "text": [
      "Running on alpha= 0.001\n",
      "Epoch: 1/20.. Training loss: 0.884.. Test loss: 0.616.. Test Accuracy: 0.777\n",
      "Epoch: 2/20.. Training loss: 0.673.. Test loss: 0.552.. Test Accuracy: 0.797\n",
      "Epoch: 3/20.. Training loss: 0.628.. Test loss: 0.495.. Test Accuracy: 0.818\n",
      "Epoch: 4/20.. Training loss: 0.596.. Test loss: 0.530.. Test Accuracy: 0.810\n",
      "Epoch: 5/20.. Training loss: 0.586.. Test loss: 0.533.. Test Accuracy: 0.807\n",
      "Epoch: 6/20.. Training loss: 0.585.. Test loss: 0.513.. Test Accuracy: 0.809\n",
      "Epoch: 7/20.. Training loss: 0.555.. Test loss: 0.484.. Test Accuracy: 0.823\n",
      "Epoch: 8/20.. Training loss: 0.541.. Test loss: 0.468.. Test Accuracy: 0.827\n",
      "Epoch: 9/20.. Training loss: 0.524.. Test loss: 0.495.. Test Accuracy: 0.823\n",
      "Epoch: 10/20.. Training loss: 0.524.. Test loss: 0.472.. Test Accuracy: 0.832\n",
      "Epoch: 11/20.. Training loss: 0.510.. Test loss: 0.564.. Test Accuracy: 0.795\n",
      "Epoch: 12/20.. Training loss: 0.510.. Test loss: 0.532.. Test Accuracy: 0.812\n",
      "Epoch: 13/20.. Training loss: 0.492.. Test loss: 0.484.. Test Accuracy: 0.829\n",
      "Epoch: 14/20.. Training loss: 0.486.. Test loss: 0.486.. Test Accuracy: 0.829\n",
      "Epoch: 15/20.. Training loss: 0.477.. Test loss: 0.468.. Test Accuracy: 0.838\n",
      "Epoch: 16/20.. Training loss: 0.481.. Test loss: 0.517.. Test Accuracy: 0.832\n",
      "Epoch: 17/20.. Training loss: 0.467.. Test loss: 0.455.. Test Accuracy: 0.839\n",
      "Epoch: 18/20.. Training loss: 0.467.. Test loss: 0.480.. Test Accuracy: 0.837\n",
      "Epoch: 19/20.. Training loss: 0.475.. Test loss: 0.484.. Test Accuracy: 0.827\n",
      "Epoch: 20/20.. Training loss: 0.452.. Test loss: 0.496.. Test Accuracy: 0.820\n",
      "Running on alpha= 0.0001\n",
      "Epoch: 1/20.. Training loss: 0.339.. Test loss: 0.515.. Test Accuracy: 0.827\n",
      "Epoch: 2/20.. Training loss: 0.323.. Test loss: 0.458.. Test Accuracy: 0.844\n",
      "Epoch: 3/20.. Training loss: 0.314.. Test loss: 0.504.. Test Accuracy: 0.828\n",
      "Epoch: 4/20.. Training loss: 0.310.. Test loss: 0.497.. Test Accuracy: 0.834\n",
      "Epoch: 5/20.. Training loss: 0.286.. Test loss: 0.531.. Test Accuracy: 0.819\n",
      "Epoch: 6/20.. Training loss: 0.288.. Test loss: 0.438.. Test Accuracy: 0.852\n",
      "Epoch: 7/20.. Training loss: 0.281.. Test loss: 0.475.. Test Accuracy: 0.842\n",
      "Epoch: 8/20.. Training loss: 0.286.. Test loss: 0.463.. Test Accuracy: 0.845\n",
      "Epoch: 9/20.. Training loss: 0.262.. Test loss: 0.471.. Test Accuracy: 0.852\n",
      "Epoch: 10/20.. Training loss: 0.264.. Test loss: 0.479.. Test Accuracy: 0.843\n",
      "Epoch: 11/20.. Training loss: 0.256.. Test loss: 0.483.. Test Accuracy: 0.846\n",
      "Epoch: 12/20.. Training loss: 0.260.. Test loss: 0.526.. Test Accuracy: 0.835\n",
      "Epoch: 13/20.. Training loss: 0.264.. Test loss: 0.541.. Test Accuracy: 0.835\n",
      "Epoch: 14/20.. Training loss: 0.241.. Test loss: 0.562.. Test Accuracy: 0.832\n",
      "Epoch: 15/20.. Training loss: 0.242.. Test loss: 0.555.. Test Accuracy: 0.837\n",
      "Epoch: 16/20.. Training loss: 0.234.. Test loss: 0.524.. Test Accuracy: 0.837\n",
      "Epoch: 17/20.. Training loss: 0.228.. Test loss: 0.544.. Test Accuracy: 0.841\n",
      "Epoch: 18/20.. Training loss: 0.236.. Test loss: 0.478.. Test Accuracy: 0.855\n",
      "Epoch: 19/20.. Training loss: 0.235.. Test loss: 0.524.. Test Accuracy: 0.841\n",
      "Epoch: 20/20.. Training loss: 0.226.. Test loss: 0.546.. Test Accuracy: 0.844\n",
      "Running on alpha= 1e-05\n",
      "Epoch: 1/20.. Training loss: 0.187.. Test loss: 0.512.. Test Accuracy: 0.854\n",
      "Epoch: 2/20.. Training loss: 0.169.. Test loss: 0.557.. Test Accuracy: 0.846\n",
      "Epoch: 3/20.. Training loss: 0.173.. Test loss: 0.546.. Test Accuracy: 0.841\n",
      "Epoch: 4/20.. Training loss: 0.153.. Test loss: 0.550.. Test Accuracy: 0.848\n",
      "Epoch: 5/20.. Training loss: 0.166.. Test loss: 0.596.. Test Accuracy: 0.836\n",
      "Epoch: 6/20.. Training loss: 0.166.. Test loss: 0.609.. Test Accuracy: 0.841\n",
      "Epoch: 7/20.. Training loss: 0.166.. Test loss: 0.647.. Test Accuracy: 0.842\n",
      "Epoch: 8/20.. Training loss: 0.153.. Test loss: 0.590.. Test Accuracy: 0.847\n",
      "Epoch: 9/20.. Training loss: 0.145.. Test loss: 0.598.. Test Accuracy: 0.846\n",
      "Epoch: 10/20.. Training loss: 0.144.. Test loss: 0.639.. Test Accuracy: 0.844\n",
      "Epoch: 11/20.. Training loss: 0.143.. Test loss: 0.697.. Test Accuracy: 0.824\n",
      "Epoch: 12/20.. Training loss: 0.138.. Test loss: 0.689.. Test Accuracy: 0.839\n",
      "Epoch: 13/20.. Training loss: 0.124.. Test loss: 0.661.. Test Accuracy: 0.843\n",
      "Epoch: 14/20.. Training loss: 0.134.. Test loss: 0.661.. Test Accuracy: 0.843\n",
      "Epoch: 15/20.. Training loss: 0.144.. Test loss: 0.652.. Test Accuracy: 0.842\n",
      "Epoch: 16/20.. Training loss: 0.127.. Test loss: 0.710.. Test Accuracy: 0.844\n",
      "Epoch: 17/20.. Training loss: 0.112.. Test loss: 0.706.. Test Accuracy: 0.850\n",
      "Epoch: 18/20.. Training loss: 0.111.. Test loss: 0.731.. Test Accuracy: 0.843\n",
      "Epoch: 19/20.. Training loss: 0.127.. Test loss: 0.677.. Test Accuracy: 0.839\n",
      "Epoch: 20/20.. Training loss: 0.114.. Test loss: 0.698.. Test Accuracy: 0.844\n"
     ]
    }
   ],
   "source": [
    "alphas = [1e-3, 1e-4, 1e-5]\n",
    "alpha_results = []\n",
    "for alpha in alphas:\n",
    "    print(\"Running on alpha=\", alpha)\n",
    "    alpha_results .append(run_model_L2(model_l2, optimizer_l2, 20, alpha))"
   ]
  },
  {
   "cell_type": "code",
   "execution_count": 42,
   "metadata": {
    "colab": {
     "base_uri": "https://localhost:8080/",
     "height": 283
    },
    "id": "3gkyrrl1NlJl",
    "outputId": "14716ca4-3c87-41eb-9806-2c4668d1ecfc"
   },
   "outputs": [
    {
     "data": {
      "text/plain": [
       "<matplotlib.legend.Legend at 0x1dbf1005760>"
      ]
     },
     "execution_count": 42,
     "metadata": {},
     "output_type": "execute_result"
    },
    {
     "data": {
      "image/png": "[encoded data removed]",
      "text/plain": [
       "<Figure size 432x288 with 1 Axes>"
      ]
     },
     "metadata": {
      "needs_background": "light"
     },
     "output_type": "display_data"
    }
   ],
   "source": [
    "plt.plot(alpha_results[0][0], label = \"T loss alpha = 1e-3\")\n",
    "plt.plot(alpha_results[1][0], label = \"T loss alpha = 1e-4\")\n",
    "plt.plot(alpha_results[2][0], label = \"T loss alpha = 1e-5\")\n",
    "plt.legend(frameon = False)\n"
   ]
  },
  {
   "cell_type": "markdown",
   "metadata": {
    "id": "CDusxNs_CzCz"
   },
   "source": [
    "Plotting test loss for these alphas"
   ]
  },
  {
   "cell_type": "code",
   "execution_count": 43,
   "metadata": {
    "colab": {
     "base_uri": "https://localhost:8080/",
     "height": 283
    },
    "id": "hmZL6qz7CyB5",
    "outputId": "0e103248-94e9-4b77-bfe1-f2333fc84440"
   },
   "outputs": [
    {
     "data": {
      "text/plain": [
       "<matplotlib.legend.Legend at 0x1dbe45d07f0>"
      ]
     },
     "execution_count": 43,
     "metadata": {},
     "output_type": "execute_result"
    },
    {
     "data": {
      "image/png": "[encoded data removed]",
      "text/plain": [
       "<Figure size 432x288 with 1 Axes>"
      ]
     },
     "metadata": {
      "needs_background": "light"
     },
     "output_type": "display_data"
    }
   ],
   "source": [
    "plt.plot(alpha_results[0][1], label = \"T loss alpha = 1e-3\")\n",
    "plt.plot(alpha_results[1][1], label = \"T loss alpha = 1e-4\")\n",
    "plt.plot(alpha_results[2][1], label = \"T loss alpha = 1e-5\")\n",
    "plt.legend(frameon = False)\n"
   ]
  },
  {
   "cell_type": "code",
   "execution_count": null,
   "metadata": {
    "id": "K0vRklVNC9zH"
   },
   "outputs": [],
   "source": []
  }
 ],
 "metadata": {
  "accelerator": "GPU",
  "colab": {
   "collapsed_sections": [],
   "provenance": []
  },
  "gpuClass": "standard",
  "kernelspec": {
   "display_name": "Python 3 (ipykernel)",
   "language": "python",
   "name": "python3"
  },
  "language_info": {
   "codemirror_mode": {
    "name": "ipython",
    "version": 3
   },
   "file_extension": ".py",
   "mimetype": "text/x-python",
   "name": "python",
   "nbconvert_exporter": "python",
   "pygments_lexer": "ipython3",
   "version": "3.9.12"
  },
  "widgets": {
   "application/vnd.jupyter.widget-state+json": {
    "0109328934884b46bd6a8e19d0b97fc2": {
     "model_module": "@jupyter-widgets/controls",
     "model_module_version": "1.5.0",
     "model_name": "HBoxModel",
     "state": {
      "_dom_classes": [],
      "_model_module": "@jupyter-widgets/controls",
      "_model_module_version": "1.5.0",
      "_model_name": "HBoxModel",
      "_view_count": null,
      "_view_module": "@jupyter-widgets/controls",
      "_view_module_version": "1.5.0",
      "_view_name": "HBoxView",
      "box_style": "",
      "children": [
       "IPY_MODEL_af4146865a5e480b8962aed440b3cfc0",
       "IPY_MODEL_2f102c1e097542cc954d1cc88d5ce3db",
       "IPY_MODEL_8f398620b0314c319f0325ba949a1a62"
      ],
      "layout": "IPY_MODEL_d235cfc458df46b58bed60fc9ea3d65d"
     }
    },
    "09defa97281b48ca9156442e706c04f6": {
     "model_module": "@jupyter-widgets/controls",
     "model_module_version": "1.5.0",
     "model_name": "FloatProgressModel",
     "state": {
      "_dom_classes": [],
      "_model_module": "@jupyter-widgets/controls",
      "_model_module_version": "1.5.0",
      "_model_name": "FloatProgressModel",
      "_view_count": null,
      "_view_module": "@jupyter-widgets/controls",
      "_view_module_version": "1.5.0",
      "_view_name": "ProgressView",
      "bar_style": "success",
      "description": "",
      "description_tooltip": null,
      "layout": "IPY_MODEL_9102a933c7e340b3abb53467d3967caf",
      "max": 26421880,
      "min": 0,
      "orientation": "horizontal",
      "style": "IPY_MODEL_cb2fc6e4b9ed4c36bfc1ca095f1f6fab",
      "value": 26421880
     }
    },
    "09fb90a2e33c4d0b87157847d3c4352f": {
     "model_module": "@jupyter-widgets/controls",
     "model_module_version": "1.5.0",
     "model_name": "FloatProgressModel",
     "state": {
      "_dom_classes": [],
      "_model_module": "@jupyter-widgets/controls",
      "_model_module_version": "1.5.0",
      "_model_name": "FloatProgressModel",
      "_view_count": null,
      "_view_module": "@jupyter-widgets/controls",
      "_view_module_version": "1.5.0",
      "_view_name": "ProgressView",
      "bar_style": "success",
      "description": "",
      "description_tooltip": null,
      "layout": "IPY_MODEL_667e2a6eeafa4d159cbb51a17fa65220",
      "max": 4422102,
      "min": 0,
      "orientation": "horizontal",
      "style": "IPY_MODEL_8dfad1d20b92499a8a0174f2093612c6",
      "value": 4422102
     }
    },
    "0d43388a60a143b2bfe3b5ecaf9384a4": {
     "model_module": "@jupyter-widgets/base",
     "model_module_version": "1.2.0",
     "model_name": "LayoutModel",
     "state": {
      "_model_module": "@jupyter-widgets/base",
      "_model_module_version": "1.2.0",
      "_model_name": "LayoutModel",
      "_view_count": null,
      "_view_module": "@jupyter-widgets/base",
      "_view_module_version": "1.2.0",
      "_view_name": "LayoutView",
      "align_content": null,
      "align_items": null,
      "align_self": null,
      "border": null,
      "bottom": null,
      "display": null,
      "flex": null,
      "flex_flow": null,
      "grid_area": null,
      "grid_auto_columns": null,
      "grid_auto_flow": null,
      "grid_auto_rows": null,
      "grid_column": null,
      "grid_gap": null,
      "grid_row": null,
      "grid_template_areas": null,
      "grid_template_columns": null,
      "grid_template_rows": null,
      "height": null,
      "justify_content": null,
      "justify_items": null,
      "left": null,
      "margin": null,
      "max_height": null,
      "max_width": null,
      "min_height": null,
      "min_width": null,
      "object_fit": null,
      "object_position": null,
      "order": null,
      "overflow": null,
      "overflow_x": null,
      "overflow_y": null,
      "padding": null,
      "right": null,
      "top": null,
      "visibility": null,
      "width": null
     }
    },
    "1493f599c8c6484e9ab6b08ad3f39c3c": {
     "model_module": "@jupyter-widgets/base",
     "model_module_version": "1.2.0",
     "model_name": "LayoutModel",
     "state": {
      "_model_module": "@jupyter-widgets/base",
      "_model_module_version": "1.2.0",
      "_model_name": "LayoutModel",
      "_view_count": null,
      "_view_module": "@jupyter-widgets/base",
      "_view_module_version": "1.2.0",
      "_view_name": "LayoutView",
      "align_content": null,
      "align_items": null,
      "align_self": null,
      "border": null,
      "bottom": null,
      "display": null,
      "flex": null,
      "flex_flow": null,
      "grid_area": null,
      "grid_auto_columns": null,
      "grid_auto_flow": null,
      "grid_auto_rows": null,
      "grid_column": null,
      "grid_gap": null,
      "grid_row": null,
      "grid_template_areas": null,
      "grid_template_columns": null,
      "grid_template_rows": null,
      "height": null,
      "justify_content": null,
      "justify_items": null,
      "left": null,
      "margin": null,
      "max_height": null,
      "max_width": null,
      "min_height": null,
      "min_width": null,
      "object_fit": null,
      "object_position": null,
      "order": null,
      "overflow": null,
      "overflow_x": null,
      "overflow_y": null,
      "padding": null,
      "right": null,
      "top": null,
      "visibility": null,
      "width": null
     }
    },
    "1da7f36128ae4233953c4886d3ca6821": {
     "model_module": "@jupyter-widgets/controls",
     "model_module_version": "1.5.0",
     "model_name": "DescriptionStyleModel",
     "state": {
      "_model_module": "@jupyter-widgets/controls",
      "_model_module_version": "1.5.0",
      "_model_name": "DescriptionStyleModel",
      "_view_count": null,
      "_view_module": "@jupyter-widgets/base",
      "_view_module_version": "1.2.0",
      "_view_name": "StyleView",
      "description_width": ""
     }
    },
    "2f102c1e097542cc954d1cc88d5ce3db": {
     "model_module": "@jupyter-widgets/controls",
     "model_module_version": "1.5.0",
     "model_name": "FloatProgressModel",
     "state": {
      "_dom_classes": [],
      "_model_module": "@jupyter-widgets/controls",
      "_model_module_version": "1.5.0",
      "_model_name": "FloatProgressModel",
      "_view_count": null,
      "_view_module": "@jupyter-widgets/controls",
      "_view_module_version": "1.5.0",
      "_view_name": "ProgressView",
      "bar_style": "success",
      "description": "",
      "description_tooltip": null,
      "layout": "IPY_MODEL_33e82302c302439a9c58c3fc0d54c0b5",
      "max": 5148,
      "min": 0,
      "orientation": "horizontal",
      "style": "IPY_MODEL_6c607d8cb56248bc8c4edf26501326fb",
      "value": 5148
     }
    },
    "33e82302c302439a9c58c3fc0d54c0b5": {
     "model_module": "@jupyter-widgets/base",
     "model_module_version": "1.2.0",
     "model_name": "LayoutModel",
     "state": {
      "_model_module": "@jupyter-widgets/base",
      "_model_module_version": "1.2.0",
      "_model_name": "LayoutModel",
      "_view_count": null,
      "_view_module": "@jupyter-widgets/base",
      "_view_module_version": "1.2.0",
      "_view_name": "LayoutView",
      "align_content": null,
      "align_items": null,
      "align_self": null,
      "border": null,
      "bottom": null,
      "display": null,
      "flex": null,
      "flex_flow": null,
      "grid_area": null,
      "grid_auto_columns": null,
      "grid_auto_flow": null,
      "grid_auto_rows": null,
      "grid_column": null,
      "grid_gap": null,
      "grid_row": null,
      "grid_template_areas": null,
      "grid_template_columns": null,
      "grid_template_rows": null,
      "height": null,
      "justify_content": null,
      "justify_items": null,
      "left": null,
      "margin": null,
      "max_height": null,
      "max_width": null,
      "min_height": null,
      "min_width": null,
      "object_fit": null,
      "object_position": null,
      "order": null,
      "overflow": null,
      "overflow_x": null,
      "overflow_y": null,
      "padding": null,
      "right": null,
      "top": null,
      "visibility": null,
      "width": null
     }
    },
    "3644150957b2468694b7726d6c7a3ee4": {
     "model_module": "@jupyter-widgets/controls",
     "model_module_version": "1.5.0",
     "model_name": "HTMLModel",
     "state": {
      "_dom_classes": [],
      "_model_module": "@jupyter-widgets/controls",
      "_model_module_version": "1.5.0",
      "_model_name": "HTMLModel",
      "_view_count": null,
      "_view_module": "@jupyter-widgets/controls",
      "_view_module_version": "1.5.0",
      "_view_name": "HTMLView",
      "description": "",
      "description_tooltip": null,
      "layout": "IPY_MODEL_0d43388a60a143b2bfe3b5ecaf9384a4",
      "placeholder": "​",
      "style": "IPY_MODEL_77df7c1fc8054275bb2797bf3cd5f565",
      "value": "100%"
     }
    },
    "3ffea3f662414dab9a28c1bf4670f343": {
     "model_module": "@jupyter-widgets/base",
     "model_module_version": "1.2.0",
     "model_name": "LayoutModel",
     "state": {
      "_model_module": "@jupyter-widgets/base",
      "_model_module_version": "1.2.0",
      "_model_name": "LayoutModel",
      "_view_count": null,
      "_view_module": "@jupyter-widgets/base",
      "_view_module_version": "1.2.0",
      "_view_name": "LayoutView",
      "align_content": null,
      "align_items": null,
      "align_self": null,
      "border": null,
      "bottom": null,
      "display": null,
      "flex": null,
      "flex_flow": null,
      "grid_area": null,
      "grid_auto_columns": null,
      "grid_auto_flow": null,
      "grid_auto_rows": null,
      "grid_column": null,
      "grid_gap": null,
      "grid_row": null,
      "grid_template_areas": null,
      "grid_template_columns": null,
      "grid_template_rows": null,
      "height": null,
      "justify_content": null,
      "justify_items": null,
      "left": null,
      "margin": null,
      "max_height": null,
      "max_width": null,
      "min_height": null,
      "min_width": null,
      "object_fit": null,
      "object_position": null,
      "order": null,
      "overflow": null,
      "overflow_x": null,
      "overflow_y": null,
      "padding": null,
      "right": null,
      "top": null,
      "visibility": null,
      "width": null
     }
    },
    "4e35b281e2df49b38fe361a0f651b423": {
     "model_module": "@jupyter-widgets/base",
     "model_module_version": "1.2.0",
     "model_name": "LayoutModel",
     "state": {
      "_model_module": "@jupyter-widgets/base",
      "_model_module_version": "1.2.0",
      "_model_name": "LayoutModel",
      "_view_count": null,
      "_view_module": "@jupyter-widgets/base",
      "_view_module_version": "1.2.0",
      "_view_name": "LayoutView",
      "align_content": null,
      "align_items": null,
      "align_self": null,
      "border": null,
      "bottom": null,
      "display": null,
      "flex": null,
      "flex_flow": null,
      "grid_area": null,
      "grid_auto_columns": null,
      "grid_auto_flow": null,
      "grid_auto_rows": null,
      "grid_column": null,
      "grid_gap": null,
      "grid_row": null,
      "grid_template_areas": null,
      "grid_template_columns": null,
      "grid_template_rows": null,
      "height": null,
      "justify_content": null,
      "justify_items": null,
      "left": null,
      "margin": null,
      "max_height": null,
      "max_width": null,
      "min_height": null,
      "min_width": null,
      "object_fit": null,
      "object_position": null,
      "order": null,
      "overflow": null,
      "overflow_x": null,
      "overflow_y": null,
      "padding": null,
      "right": null,
      "top": null,
      "visibility": null,
      "width": null
     }
    },
    "5ee3116349154d0082eefcddc1e5a4ef": {
     "model_module": "@jupyter-widgets/base",
     "model_module_version": "1.2.0",
     "model_name": "LayoutModel",
     "state": {
      "_model_module": "@jupyter-widgets/base",
      "_model_module_version": "1.2.0",
      "_model_name": "LayoutModel",
      "_view_count": null,
      "_view_module": "@jupyter-widgets/base",
      "_view_module_version": "1.2.0",
      "_view_name": "LayoutView",
      "align_content": null,
      "align_items": null,
      "align_self": null,
      "border": null,
      "bottom": null,
      "display": null,
      "flex": null,
      "flex_flow": null,
      "grid_area": null,
      "grid_auto_columns": null,
      "grid_auto_flow": null,
      "grid_auto_rows": null,
      "grid_column": null,
      "grid_gap": null,
      "grid_row": null,
      "grid_template_areas": null,
      "grid_template_columns": null,
      "grid_template_rows": null,
      "height": null,
      "justify_content": null,
      "justify_items": null,
      "left": null,
      "margin": null,
      "max_height": null,
      "max_width": null,
      "min_height": null,
      "min_width": null,
      "object_fit": null,
      "object_position": null,
      "order": null,
      "overflow": null,
      "overflow_x": null,
      "overflow_y": null,
      "padding": null,
      "right": null,
      "top": null,
      "visibility": null,
      "width": null
     }
    },
    "636029b25363438bb4fa85a73ba8d34e": {
     "model_module": "@jupyter-widgets/controls",
     "model_module_version": "1.5.0",
     "model_name": "DescriptionStyleModel",
     "state": {
      "_model_module": "@jupyter-widgets/controls",
      "_model_module_version": "1.5.0",
      "_model_name": "DescriptionStyleModel",
      "_view_count": null,
      "_view_module": "@jupyter-widgets/base",
      "_view_module_version": "1.2.0",
      "_view_name": "StyleView",
      "description_width": ""
     }
    },
    "667e2a6eeafa4d159cbb51a17fa65220": {
     "model_module": "@jupyter-widgets/base",
     "model_module_version": "1.2.0",
     "model_name": "LayoutModel",
     "state": {
      "_model_module": "@jupyter-widgets/base",
      "_model_module_version": "1.2.0",
      "_model_name": "LayoutModel",
      "_view_count": null,
      "_view_module": "@jupyter-widgets/base",
      "_view_module_version": "1.2.0",
      "_view_name": "LayoutView",
      "align_content": null,
      "align_items": null,
      "align_self": null,
      "border": null,
      "bottom": null,
      "display": null,
      "flex": null,
      "flex_flow": null,
      "grid_area": null,
      "grid_auto_columns": null,
      "grid_auto_flow": null,
      "grid_auto_rows": null,
      "grid_column": null,
      "grid_gap": null,
      "grid_row": null,
      "grid_template_areas": null,
      "grid_template_columns": null,
      "grid_template_rows": null,
      "height": null,
      "justify_content": null,
      "justify_items": null,
      "left": null,
      "margin": null,
      "max_height": null,
      "max_width": null,
      "min_height": null,
      "min_width": null,
      "object_fit": null,
      "object_position": null,
      "order": null,
      "overflow": null,
      "overflow_x": null,
      "overflow_y": null,
      "padding": null,
      "right": null,
      "top": null,
      "visibility": null,
      "width": null
     }
    },
    "6c607d8cb56248bc8c4edf26501326fb": {
     "model_module": "@jupyter-widgets/controls",
     "model_module_version": "1.5.0",
     "model_name": "ProgressStyleModel",
     "state": {
      "_model_module": "@jupyter-widgets/controls",
      "_model_module_version": "1.5.0",
      "_model_name": "ProgressStyleModel",
      "_view_count": null,
      "_view_module": "@jupyter-widgets/base",
      "_view_module_version": "1.2.0",
      "_view_name": "StyleView",
      "bar_color": null,
      "description_width": ""
     }
    },
    "6dec3606e3d94ca2b50c755ee9acbae6": {
     "model_module": "@jupyter-widgets/base",
     "model_module_version": "1.2.0",
     "model_name": "LayoutModel",
     "state": {
      "_model_module": "@jupyter-widgets/base",
      "_model_module_version": "1.2.0",
      "_model_name": "LayoutModel",
      "_view_count": null,
      "_view_module": "@jupyter-widgets/base",
      "_view_module_version": "1.2.0",
      "_view_name": "LayoutView",
      "align_content": null,
      "align_items": null,
      "align_self": null,
      "border": null,
      "bottom": null,
      "display": null,
      "flex": null,
      "flex_flow": null,
      "grid_area": null,
      "grid_auto_columns": null,
      "grid_auto_flow": null,
      "grid_auto_rows": null,
      "grid_column": null,
      "grid_gap": null,
      "grid_row": null,
      "grid_template_areas": null,
      "grid_template_columns": null,
      "grid_template_rows": null,
      "height": null,
      "justify_content": null,
      "justify_items": null,
      "left": null,
      "margin": null,
      "max_height": null,
      "max_width": null,
      "min_height": null,
      "min_width": null,
      "object_fit": null,
      "object_position": null,
      "order": null,
      "overflow": null,
      "overflow_x": null,
      "overflow_y": null,
      "padding": null,
      "right": null,
      "top": null,
      "visibility": null,
      "width": null
     }
    },
    "70d9961fcf5348b0be6e7b1611bfffe7": {
     "model_module": "@jupyter-widgets/controls",
     "model_module_version": "1.5.0",
     "model_name": "HTMLModel",
     "state": {
      "_dom_classes": [],
      "_model_module": "@jupyter-widgets/controls",
      "_model_module_version": "1.5.0",
      "_model_name": "HTMLModel",
      "_view_count": null,
      "_view_module": "@jupyter-widgets/controls",
      "_view_module_version": "1.5.0",
      "_view_name": "HTMLView",
      "description": "",
      "description_tooltip": null,
      "layout": "IPY_MODEL_fd3faf5a6b2b4d41a0571da53e5d4f88",
      "placeholder": "​",
      "style": "IPY_MODEL_ab613e7cf2ad4a4dab1b770266802348",
      "value": "100%"
     }
    },
    "77458735a4e242f5a310090ca69af281": {
     "model_module": "@jupyter-widgets/base",
     "model_module_version": "1.2.0",
     "model_name": "LayoutModel",
     "state": {
      "_model_module": "@jupyter-widgets/base",
      "_model_module_version": "1.2.0",
      "_model_name": "LayoutModel",
      "_view_count": null,
      "_view_module": "@jupyter-widgets/base",
      "_view_module_version": "1.2.0",
      "_view_name": "LayoutView",
      "align_content": null,
      "align_items": null,
      "align_self": null,
      "border": null,
      "bottom": null,
      "display": null,
      "flex": null,
      "flex_flow": null,
      "grid_area": null,
      "grid_auto_columns": null,
      "grid_auto_flow": null,
      "grid_auto_rows": null,
      "grid_column": null,
      "grid_gap": null,
      "grid_row": null,
      "grid_template_areas": null,
      "grid_template_columns": null,
      "grid_template_rows": null,
      "height": null,
      "justify_content": null,
      "justify_items": null,
      "left": null,
      "margin": null,
      "max_height": null,
      "max_width": null,
      "min_height": null,
      "min_width": null,
      "object_fit": null,
      "object_position": null,
      "order": null,
      "overflow": null,
      "overflow_x": null,
      "overflow_y": null,
      "padding": null,
      "right": null,
      "top": null,
      "visibility": null,
      "width": null
     }
    },
    "77df7c1fc8054275bb2797bf3cd5f565": {
     "model_module": "@jupyter-widgets/controls",
     "model_module_version": "1.5.0",
     "model_name": "DescriptionStyleModel",
     "state": {
      "_model_module": "@jupyter-widgets/controls",
      "_model_module_version": "1.5.0",
      "_model_name": "DescriptionStyleModel",
      "_view_count": null,
      "_view_module": "@jupyter-widgets/base",
      "_view_module_version": "1.2.0",
      "_view_name": "StyleView",
      "description_width": ""
     }
    },
    "7fc25d70877644f1a836c34e79bc11ca": {
     "model_module": "@jupyter-widgets/controls",
     "model_module_version": "1.5.0",
     "model_name": "DescriptionStyleModel",
     "state": {
      "_model_module": "@jupyter-widgets/controls",
      "_model_module_version": "1.5.0",
      "_model_name": "DescriptionStyleModel",
      "_view_count": null,
      "_view_module": "@jupyter-widgets/base",
      "_view_module_version": "1.2.0",
      "_view_name": "StyleView",
      "description_width": ""
     }
    },
    "7fc26bd41dfc401489d3e7c55ae945d5": {
     "model_module": "@jupyter-widgets/base",
     "model_module_version": "1.2.0",
     "model_name": "LayoutModel",
     "state": {
      "_model_module": "@jupyter-widgets/base",
      "_model_module_version": "1.2.0",
      "_model_name": "LayoutModel",
      "_view_count": null,
      "_view_module": "@jupyter-widgets/base",
      "_view_module_version": "1.2.0",
      "_view_name": "LayoutView",
      "align_content": null,
      "align_items": null,
      "align_self": null,
      "border": null,
      "bottom": null,
      "display": null,
      "flex": null,
      "flex_flow": null,
      "grid_area": null,
      "grid_auto_columns": null,
      "grid_auto_flow": null,
      "grid_auto_rows": null,
      "grid_column": null,
      "grid_gap": null,
      "grid_row": null,
      "grid_template_areas": null,
      "grid_template_columns": null,
      "grid_template_rows": null,
      "height": null,
      "justify_content": null,
      "justify_items": null,
      "left": null,
      "margin": null,
      "max_height": null,
      "max_width": null,
      "min_height": null,
      "min_width": null,
      "object_fit": null,
      "object_position": null,
      "order": null,
      "overflow": null,
      "overflow_x": null,
      "overflow_y": null,
      "padding": null,
      "right": null,
      "top": null,
      "visibility": null,
      "width": null
     }
    },
    "89bf94ec747447ab83766aa6563c9ebf": {
     "model_module": "@jupyter-widgets/controls",
     "model_module_version": "1.5.0",
     "model_name": "DescriptionStyleModel",
     "state": {
      "_model_module": "@jupyter-widgets/controls",
      "_model_module_version": "1.5.0",
      "_model_name": "DescriptionStyleModel",
      "_view_count": null,
      "_view_module": "@jupyter-widgets/base",
      "_view_module_version": "1.2.0",
      "_view_name": "StyleView",
      "description_width": ""
     }
    },
    "8dfad1d20b92499a8a0174f2093612c6": {
     "model_module": "@jupyter-widgets/controls",
     "model_module_version": "1.5.0",
     "model_name": "ProgressStyleModel",
     "state": {
      "_model_module": "@jupyter-widgets/controls",
      "_model_module_version": "1.5.0",
      "_model_name": "ProgressStyleModel",
      "_view_count": null,
      "_view_module": "@jupyter-widgets/base",
      "_view_module_version": "1.2.0",
      "_view_name": "StyleView",
      "bar_color": null,
      "description_width": ""
     }
    },
    "8f398620b0314c319f0325ba949a1a62": {
     "model_module": "@jupyter-widgets/controls",
     "model_module_version": "1.5.0",
     "model_name": "HTMLModel",
     "state": {
      "_dom_classes": [],
      "_model_module": "@jupyter-widgets/controls",
      "_model_module_version": "1.5.0",
      "_model_name": "HTMLModel",
      "_view_count": null,
      "_view_module": "@jupyter-widgets/controls",
      "_view_module_version": "1.5.0",
      "_view_name": "HTMLView",
      "description": "",
      "description_tooltip": null,
      "layout": "IPY_MODEL_7fc26bd41dfc401489d3e7c55ae945d5",
      "placeholder": "​",
      "style": "IPY_MODEL_be46f68cbcfd41b88019415f3cc39ff6",
      "value": " 5148/5148 [00:00&lt;00:00, 161750.81it/s]"
     }
    },
    "90d9324fb9434d77b30fe1565443c862": {
     "model_module": "@jupyter-widgets/controls",
     "model_module_version": "1.5.0",
     "model_name": "HBoxModel",
     "state": {
      "_dom_classes": [],
      "_model_module": "@jupyter-widgets/controls",
      "_model_module_version": "1.5.0",
      "_model_name": "HBoxModel",
      "_view_count": null,
      "_view_module": "@jupyter-widgets/controls",
      "_view_module_version": "1.5.0",
      "_view_name": "HBoxView",
      "box_style": "",
      "children": [
       "IPY_MODEL_e6c53878a2394d76b8eaeda93c90a97a",
       "IPY_MODEL_09fb90a2e33c4d0b87157847d3c4352f",
       "IPY_MODEL_edac8003e1914193a515c25219487e9e"
      ],
      "layout": "IPY_MODEL_1493f599c8c6484e9ab6b08ad3f39c3c"
     }
    },
    "9102a933c7e340b3abb53467d3967caf": {
     "model_module": "@jupyter-widgets/base",
     "model_module_version": "1.2.0",
     "model_name": "LayoutModel",
     "state": {
      "_model_module": "@jupyter-widgets/base",
      "_model_module_version": "1.2.0",
      "_model_name": "LayoutModel",
      "_view_count": null,
      "_view_module": "@jupyter-widgets/base",
      "_view_module_version": "1.2.0",
      "_view_name": "LayoutView",
      "align_content": null,
      "align_items": null,
      "align_self": null,
      "border": null,
      "bottom": null,
      "display": null,
      "flex": null,
      "flex_flow": null,
      "grid_area": null,
      "grid_auto_columns": null,
      "grid_auto_flow": null,
      "grid_auto_rows": null,
      "grid_column": null,
      "grid_gap": null,
      "grid_row": null,
      "grid_template_areas": null,
      "grid_template_columns": null,
      "grid_template_rows": null,
      "height": null,
      "justify_content": null,
      "justify_items": null,
      "left": null,
      "margin": null,
      "max_height": null,
      "max_width": null,
      "min_height": null,
      "min_width": null,
      "object_fit": null,
      "object_position": null,
      "order": null,
      "overflow": null,
      "overflow_x": null,
      "overflow_y": null,
      "padding": null,
      "right": null,
      "top": null,
      "visibility": null,
      "width": null
     }
    },
    "9ba487a90b2a4a4785e818087102e9a5": {
     "model_module": "@jupyter-widgets/controls",
     "model_module_version": "1.5.0",
     "model_name": "HTMLModel",
     "state": {
      "_dom_classes": [],
      "_model_module": "@jupyter-widgets/controls",
      "_model_module_version": "1.5.0",
      "_model_name": "HTMLModel",
      "_view_count": null,
      "_view_module": "@jupyter-widgets/controls",
      "_view_module_version": "1.5.0",
      "_view_name": "HTMLView",
      "description": "",
      "description_tooltip": null,
      "layout": "IPY_MODEL_6dec3606e3d94ca2b50c755ee9acbae6",
      "placeholder": "​",
      "style": "IPY_MODEL_89bf94ec747447ab83766aa6563c9ebf",
      "value": " 29515/29515 [00:00&lt;00:00, 334145.47it/s]"
     }
    },
    "9d3607a468774b5e93495560368f27fb": {
     "model_module": "@jupyter-widgets/controls",
     "model_module_version": "1.5.0",
     "model_name": "HBoxModel",
     "state": {
      "_dom_classes": [],
      "_model_module": "@jupyter-widgets/controls",
      "_model_module_version": "1.5.0",
      "_model_name": "HBoxModel",
      "_view_count": null,
      "_view_module": "@jupyter-widgets/controls",
      "_view_module_version": "1.5.0",
      "_view_name": "HBoxView",
      "box_style": "",
      "children": [
       "IPY_MODEL_3644150957b2468694b7726d6c7a3ee4",
       "IPY_MODEL_e0bea71c045d4e9d8a4202dfad64fc03",
       "IPY_MODEL_9ba487a90b2a4a4785e818087102e9a5"
      ],
      "layout": "IPY_MODEL_4e35b281e2df49b38fe361a0f651b423"
     }
    },
    "a2036db5108f448fa5a86857ec03ec39": {
     "model_module": "@jupyter-widgets/controls",
     "model_module_version": "1.5.0",
     "model_name": "HTMLModel",
     "state": {
      "_dom_classes": [],
      "_model_module": "@jupyter-widgets/controls",
      "_model_module_version": "1.5.0",
      "_model_name": "HTMLModel",
      "_view_count": null,
      "_view_module": "@jupyter-widgets/controls",
      "_view_module_version": "1.5.0",
      "_view_name": "HTMLView",
      "description": "",
      "description_tooltip": null,
      "layout": "IPY_MODEL_ac431a747b5b4f9fae0a69a91e9c1d6d",
      "placeholder": "​",
      "style": "IPY_MODEL_1da7f36128ae4233953c4886d3ca6821",
      "value": " 26421880/26421880 [00:01&lt;00:00, 27484738.69it/s]"
     }
    },
    "ab613e7cf2ad4a4dab1b770266802348": {
     "model_module": "@jupyter-widgets/controls",
     "model_module_version": "1.5.0",
     "model_name": "DescriptionStyleModel",
     "state": {
      "_model_module": "@jupyter-widgets/controls",
      "_model_module_version": "1.5.0",
      "_model_name": "DescriptionStyleModel",
      "_view_count": null,
      "_view_module": "@jupyter-widgets/base",
      "_view_module_version": "1.2.0",
      "_view_name": "StyleView",
      "description_width": ""
     }
    },
    "ab66add384a64d8f837e307e66b17d02": {
     "model_module": "@jupyter-widgets/base",
     "model_module_version": "1.2.0",
     "model_name": "LayoutModel",
     "state": {
      "_model_module": "@jupyter-widgets/base",
      "_model_module_version": "1.2.0",
      "_model_name": "LayoutModel",
      "_view_count": null,
      "_view_module": "@jupyter-widgets/base",
      "_view_module_version": "1.2.0",
      "_view_name": "LayoutView",
      "align_content": null,
      "align_items": null,
      "align_self": null,
      "border": null,
      "bottom": null,
      "display": null,
      "flex": null,
      "flex_flow": null,
      "grid_area": null,
      "grid_auto_columns": null,
      "grid_auto_flow": null,
      "grid_auto_rows": null,
      "grid_column": null,
      "grid_gap": null,
      "grid_row": null,
      "grid_template_areas": null,
      "grid_template_columns": null,
      "grid_template_rows": null,
      "height": null,
      "justify_content": null,
      "justify_items": null,
      "left": null,
      "margin": null,
      "max_height": null,
      "max_width": null,
      "min_height": null,
      "min_width": null,
      "object_fit": null,
      "object_position": null,
      "order": null,
      "overflow": null,
      "overflow_x": null,
      "overflow_y": null,
      "padding": null,
      "right": null,
      "top": null,
      "visibility": null,
      "width": null
     }
    },
    "ac431a747b5b4f9fae0a69a91e9c1d6d": {
     "model_module": "@jupyter-widgets/base",
     "model_module_version": "1.2.0",
     "model_name": "LayoutModel",
     "state": {
      "_model_module": "@jupyter-widgets/base",
      "_model_module_version": "1.2.0",
      "_model_name": "LayoutModel",
      "_view_count": null,
      "_view_module": "@jupyter-widgets/base",
      "_view_module_version": "1.2.0",
      "_view_name": "LayoutView",
      "align_content": null,
      "align_items": null,
      "align_self": null,
      "border": null,
      "bottom": null,
      "display": null,
      "flex": null,
      "flex_flow": null,
      "grid_area": null,
      "grid_auto_columns": null,
      "grid_auto_flow": null,
      "grid_auto_rows": null,
      "grid_column": null,
      "grid_gap": null,
      "grid_row": null,
      "grid_template_areas": null,
      "grid_template_columns": null,
      "grid_template_rows": null,
      "height": null,
      "justify_content": null,
      "justify_items": null,
      "left": null,
      "margin": null,
      "max_height": null,
      "max_width": null,
      "min_height": null,
      "min_width": null,
      "object_fit": null,
      "object_position": null,
      "order": null,
      "overflow": null,
      "overflow_x": null,
      "overflow_y": null,
      "padding": null,
      "right": null,
      "top": null,
      "visibility": null,
      "width": null
     }
    },
    "af11b975a87b421091b1cdb5702b066b": {
     "model_module": "@jupyter-widgets/controls",
     "model_module_version": "1.5.0",
     "model_name": "DescriptionStyleModel",
     "state": {
      "_model_module": "@jupyter-widgets/controls",
      "_model_module_version": "1.5.0",
      "_model_name": "DescriptionStyleModel",
      "_view_count": null,
      "_view_module": "@jupyter-widgets/base",
      "_view_module_version": "1.2.0",
      "_view_name": "StyleView",
      "description_width": ""
     }
    },
    "af4146865a5e480b8962aed440b3cfc0": {
     "model_module": "@jupyter-widgets/controls",
     "model_module_version": "1.5.0",
     "model_name": "HTMLModel",
     "state": {
      "_dom_classes": [],
      "_model_module": "@jupyter-widgets/controls",
      "_model_module_version": "1.5.0",
      "_model_name": "HTMLModel",
      "_view_count": null,
      "_view_module": "@jupyter-widgets/controls",
      "_view_module_version": "1.5.0",
      "_view_name": "HTMLView",
      "description": "",
      "description_tooltip": null,
      "layout": "IPY_MODEL_77458735a4e242f5a310090ca69af281",
      "placeholder": "​",
      "style": "IPY_MODEL_636029b25363438bb4fa85a73ba8d34e",
      "value": "100%"
     }
    },
    "be46f68cbcfd41b88019415f3cc39ff6": {
     "model_module": "@jupyter-widgets/controls",
     "model_module_version": "1.5.0",
     "model_name": "DescriptionStyleModel",
     "state": {
      "_model_module": "@jupyter-widgets/controls",
      "_model_module_version": "1.5.0",
      "_model_name": "DescriptionStyleModel",
      "_view_count": null,
      "_view_module": "@jupyter-widgets/base",
      "_view_module_version": "1.2.0",
      "_view_name": "StyleView",
      "description_width": ""
     }
    },
    "cb2fc6e4b9ed4c36bfc1ca095f1f6fab": {
     "model_module": "@jupyter-widgets/controls",
     "model_module_version": "1.5.0",
     "model_name": "ProgressStyleModel",
     "state": {
      "_model_module": "@jupyter-widgets/controls",
      "_model_module_version": "1.5.0",
      "_model_name": "ProgressStyleModel",
      "_view_count": null,
      "_view_module": "@jupyter-widgets/base",
      "_view_module_version": "1.2.0",
      "_view_name": "StyleView",
      "bar_color": null,
      "description_width": ""
     }
    },
    "d235cfc458df46b58bed60fc9ea3d65d": {
     "model_module": "@jupyter-widgets/base",
     "model_module_version": "1.2.0",
     "model_name": "LayoutModel",
     "state": {
      "_model_module": "@jupyter-widgets/base",
      "_model_module_version": "1.2.0",
      "_model_name": "LayoutModel",
      "_view_count": null,
      "_view_module": "@jupyter-widgets/base",
      "_view_module_version": "1.2.0",
      "_view_name": "LayoutView",
      "align_content": null,
      "align_items": null,
      "align_self": null,
      "border": null,
      "bottom": null,
      "display": null,
      "flex": null,
      "flex_flow": null,
      "grid_area": null,
      "grid_auto_columns": null,
      "grid_auto_flow": null,
      "grid_auto_rows": null,
      "grid_column": null,
      "grid_gap": null,
      "grid_row": null,
      "grid_template_areas": null,
      "grid_template_columns": null,
      "grid_template_rows": null,
      "height": null,
      "justify_content": null,
      "justify_items": null,
      "left": null,
      "margin": null,
      "max_height": null,
      "max_width": null,
      "min_height": null,
      "min_width": null,
      "object_fit": null,
      "object_position": null,
      "order": null,
      "overflow": null,
      "overflow_x": null,
      "overflow_y": null,
      "padding": null,
      "right": null,
      "top": null,
      "visibility": null,
      "width": null
     }
    },
    "e0bea71c045d4e9d8a4202dfad64fc03": {
     "model_module": "@jupyter-widgets/controls",
     "model_module_version": "1.5.0",
     "model_name": "FloatProgressModel",
     "state": {
      "_dom_classes": [],
      "_model_module": "@jupyter-widgets/controls",
      "_model_module_version": "1.5.0",
      "_model_name": "FloatProgressModel",
      "_view_count": null,
      "_view_module": "@jupyter-widgets/controls",
      "_view_module_version": "1.5.0",
      "_view_name": "ProgressView",
      "bar_style": "success",
      "description": "",
      "description_tooltip": null,
      "layout": "IPY_MODEL_ab66add384a64d8f837e307e66b17d02",
      "max": 29515,
      "min": 0,
      "orientation": "horizontal",
      "style": "IPY_MODEL_e22b670302fc4e3e90df2f056634362c",
      "value": 29515
     }
    },
    "e22b670302fc4e3e90df2f056634362c": {
     "model_module": "@jupyter-widgets/controls",
     "model_module_version": "1.5.0",
     "model_name": "ProgressStyleModel",
     "state": {
      "_model_module": "@jupyter-widgets/controls",
      "_model_module_version": "1.5.0",
      "_model_name": "ProgressStyleModel",
      "_view_count": null,
      "_view_module": "@jupyter-widgets/base",
      "_view_module_version": "1.2.0",
      "_view_name": "StyleView",
      "bar_color": null,
      "description_width": ""
     }
    },
    "e6c53878a2394d76b8eaeda93c90a97a": {
     "model_module": "@jupyter-widgets/controls",
     "model_module_version": "1.5.0",
     "model_name": "HTMLModel",
     "state": {
      "_dom_classes": [],
      "_model_module": "@jupyter-widgets/controls",
      "_model_module_version": "1.5.0",
      "_model_name": "HTMLModel",
      "_view_count": null,
      "_view_module": "@jupyter-widgets/controls",
      "_view_module_version": "1.5.0",
      "_view_name": "HTMLView",
      "description": "",
      "description_tooltip": null,
      "layout": "IPY_MODEL_fe629eae9b6b4105aded7ecd52310f69",
      "placeholder": "​",
      "style": "IPY_MODEL_af11b975a87b421091b1cdb5702b066b",
      "value": "100%"
     }
    },
    "edac8003e1914193a515c25219487e9e": {
     "model_module": "@jupyter-widgets/controls",
     "model_module_version": "1.5.0",
     "model_name": "HTMLModel",
     "state": {
      "_dom_classes": [],
      "_model_module": "@jupyter-widgets/controls",
      "_model_module_version": "1.5.0",
      "_model_name": "HTMLModel",
      "_view_count": null,
      "_view_module": "@jupyter-widgets/controls",
      "_view_module_version": "1.5.0",
      "_view_name": "HTMLView",
      "description": "",
      "description_tooltip": null,
      "layout": "IPY_MODEL_5ee3116349154d0082eefcddc1e5a4ef",
      "placeholder": "​",
      "style": "IPY_MODEL_7fc25d70877644f1a836c34e79bc11ca",
      "value": " 4422102/4422102 [00:00&lt;00:00, 7692332.34it/s]"
     }
    },
    "ee4f01e6a75e46b093ad7a2c913eeedc": {
     "model_module": "@jupyter-widgets/controls",
     "model_module_version": "1.5.0",
     "model_name": "HBoxModel",
     "state": {
      "_dom_classes": [],
      "_model_module": "@jupyter-widgets/controls",
      "_model_module_version": "1.5.0",
      "_model_name": "HBoxModel",
      "_view_count": null,
      "_view_module": "@jupyter-widgets/controls",
      "_view_module_version": "1.5.0",
      "_view_name": "HBoxView",
      "box_style": "",
      "children": [
       "IPY_MODEL_70d9961fcf5348b0be6e7b1611bfffe7",
       "IPY_MODEL_09defa97281b48ca9156442e706c04f6",
       "IPY_MODEL_a2036db5108f448fa5a86857ec03ec39"
      ],
      "layout": "IPY_MODEL_3ffea3f662414dab9a28c1bf4670f343"
     }
    },
    "fd3faf5a6b2b4d41a0571da53e5d4f88": {
     "model_module": "@jupyter-widgets/base",
     "model_module_version": "1.2.0",
     "model_name": "LayoutModel",
     "state": {
      "_model_module": "@jupyter-widgets/base",
      "_model_module_version": "1.2.0",
      "_model_name": "LayoutModel",
      "_view_count": null,
      "_view_module": "@jupyter-widgets/base",
      "_view_module_version": "1.2.0",
      "_view_name": "LayoutView",
      "align_content": null,
      "align_items": null,
      "align_self": null,
      "border": null,
      "bottom": null,
      "display": null,
      "flex": null,
      "flex_flow": null,
      "grid_area": null,
      "grid_auto_columns": null,
      "grid_auto_flow": null,
      "grid_auto_rows": null,
      "grid_column": null,
      "grid_gap": null,
      "grid_row": null,
      "grid_template_areas": null,
      "grid_template_columns": null,
      "grid_template_rows": null,
      "height": null,
      "justify_content": null,
      "justify_items": null,
      "left": null,
      "margin": null,
      "max_height": null,
      "max_width": null,
      "min_height": null,
      "min_width": null,
      "object_fit": null,
      "object_position": null,
      "order": null,
      "overflow": null,
      "overflow_x": null,
      "overflow_y": null,
      "padding": null,
      "right": null,
      "top": null,
      "visibility": null,
      "width": null
     }
    },
    "fe629eae9b6b4105aded7ecd52310f69": {
     "model_module": "@jupyter-widgets/base",
     "model_module_version": "1.2.0",
     "model_name": "LayoutModel",
     "state": {
      "_model_module": "@jupyter-widgets/base",
      "_model_module_version": "1.2.0",
      "_model_name": "LayoutModel",
      "_view_count": null,
      "_view_module": "@jupyter-widgets/base",
      "_view_module_version": "1.2.0",
      "_view_name": "LayoutView",
      "align_content": null,
      "align_items": null,
      "align_self": null,
      "border": null,
      "bottom": null,
      "display": null,
      "flex": null,
      "flex_flow": null,
      "grid_area": null,
      "grid_auto_columns": null,
      "grid_auto_flow": null,
      "grid_auto_rows": null,
      "grid_column": null,
      "grid_gap": null,
      "grid_row": null,
      "grid_template_areas": null,
      "grid_template_columns": null,
      "grid_template_rows": null,
      "height": null,
      "justify_content": null,
      "justify_items": null,
      "left": null,
      "margin": null,
      "max_height": null,
      "max_width": null,
      "min_height": null,
      "min_width": null,
      "object_fit": null,
      "object_position": null,
      "order": null,
      "overflow": null,
      "overflow_x": null,
      "overflow_y": null,
      "padding": null,
      "right": null,
      "top": null,
      "visibility": null,
      "width": null
     }
    }
   }
  }
 },
 "nbformat": 4,
 "nbformat_minor": 1
}
