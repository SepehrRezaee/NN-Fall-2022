{
  "nbformat": 4,
  "nbformat_minor": 0,
  "metadata": {
    "colab": {
      "provenance": []
    },
    "kernelspec": {
      "name": "python3",
      "display_name": "Python 3"
    },
    "language_info": {
      "name": "python"
    },
    "accelerator": "GPU",
    "gpuClass": "standard"
  },
  "cells": [
    {
      "cell_type": "markdown",
      "source": [
        "### **Sepehr Rezaee - 99242067**"
      ],
      "metadata": {
        "id": "0Wv7tsONWGLY"
      }
    },
    {
      "cell_type": "markdown",
      "source": [
        "## **Import Requirements**"
      ],
      "metadata": {
        "id": "XslB9QedY4Pn"
      }
    },
    {
      "cell_type": "code",
      "source": [
        "import os\n",
        "import torch\n",
        "import random\n",
        "import argparse\n",
        "import numpy as np\n",
        "import torchvision\n",
        "import torch.nn as nn\n",
        "import torch.optim as optim\n",
        "import torch.nn.functional as F\n",
        "import matplotlib.pyplot as plt\n",
        "import torch.utils.data as data\n",
        "from torch.autograd import Variable\n",
        "from torch.utils.data import DataLoader\n",
        "import torchvision.transforms as transforms\n",
        "\n",
        "\n",
        "%matplotlib inline\n"
      ],
      "metadata": {
        "id": "HTgTrPCPY3nL"
      },
      "execution_count": null,
      "outputs": []
    },
    {
      "cell_type": "markdown",
      "source": [
        "## **Download and Load the dataset**"
      ],
      "metadata": {
        "id": "2AdMyKeMY-3R"
      }
    },
    {
      "cell_type": "code",
      "source": [
        "# Download and load the CIFAR10 dataset\n",
        "transform = transforms.Compose([\n",
        "    transforms.ToTensor(),\n",
        "    transforms.Normalize((0.5, 0.5, 0.5), (0.5, 0.5, 0.5))\n",
        "])\n",
        "\n",
        "\n",
        "def get_my_dataset(size=100, flag=True):\n",
        "    indexes = random.sample(range(0, 5000), size)\n",
        "    divsure = 4\n",
        "    group1 = indexes[:size//divsure]\n",
        "    group2 = indexes[size//divsure:]\n",
        "    dataset = torchvision.datasets.CIFAR10(root='./data', train=flag,\n",
        "                                    download=True, transform=transform)\n",
        "    pair_indexes = [(i, j) for i in group1 for j in group2]\n",
        "\n",
        "    def get_item(idx):\n",
        "        index1, index2 = pair_indexes[idx]\n",
        "        img1 = dataset[index1][0]\n",
        "        img2 = dataset[index2][0]\n",
        "        result = img1 + img2\n",
        "        result = result / 2\n",
        "        return result, (img1, img2)\n",
        "\n",
        "    return len(pair_indexes), get_item\n",
        "\n",
        "\n",
        "# Create a custom dataset object that wraps the get_item function\n",
        "class MyDatasetObject:\n",
        "    def __init__(self, length, get_item):\n",
        "        self.length = length\n",
        "        self.get_item = get_item\n",
        "\n",
        "    def __len__(self):\n",
        "        return self.length\n",
        "\n",
        "    def __getitem__(self, idx):\n",
        "        return self.get_item(idx)"
      ],
      "metadata": {
        "id": "wsYw4x94ZKlw"
      },
      "execution_count": null,
      "outputs": []
    },
    {
      "cell_type": "markdown",
      "source": [
        "## **Define the encoder and decoder and autoencoder networks**"
      ],
      "metadata": {
        "id": "rD94r57rZNsT"
      }
    },
    {
      "cell_type": "code",
      "source": [
        "class conv_block(nn.Module):\n",
        "    def __init__(self, in_c, out_c):\n",
        "        super().__init__()\n",
        "\n",
        "        self.conv1 = nn.Conv2d(in_c, out_c, kernel_size=3, padding=1)\n",
        "        self.bn1 = nn.BatchNorm2d(out_c)\n",
        "\n",
        "        self.conv2 = nn.Conv2d(out_c, out_c, kernel_size=3, padding=1)\n",
        "        self.bn2 = nn.BatchNorm2d(out_c)\n",
        "\n",
        "        self.relu = nn.ReLU()\n",
        "\n",
        "    def forward(self, inputs):\n",
        "        x = self.conv1(inputs)\n",
        "        x = self.bn1(x)\n",
        "        x = self.relu(x)\n",
        "\n",
        "        x = self.conv2(x)\n",
        "        x = self.bn2(x)\n",
        "        x = self.relu(x)\n",
        "\n",
        "        return x\n",
        "\n",
        "# Encoder\n",
        "class encoder_block(nn.Module):\n",
        "    def __init__(self, in_c, out_c):\n",
        "        super().__init__()\n",
        "\n",
        "        self.conv = conv_block(in_c, out_c)\n",
        "        self.pool = nn.MaxPool2d((2, 2))\n",
        "\n",
        "    def forward(self, inputs):\n",
        "        x = self.conv(inputs)\n",
        "        p = self.pool(x)\n",
        "\n",
        "        return x, p\n",
        "\n",
        "# Decoder\n",
        "class decoder_block(nn.Module):\n",
        "    def __init__(self, in_c, out_c):\n",
        "        super().__init__()\n",
        "\n",
        "        self.up = nn.ConvTranspose2d(in_c, out_c, kernel_size=2, stride=2, padding=0)\n",
        "        self.conv = conv_block(out_c+out_c, out_c)\n",
        "\n",
        "    def forward(self, inputs, skip):\n",
        "        x = self.up(inputs)\n",
        "        x = torch.cat([x, skip], axis=1)\n",
        "        x = self.conv(x)\n",
        "\n",
        "        return x\n",
        "\n",
        "\n",
        "class build_unet(nn.Module):\n",
        "    def __init__(self):\n",
        "        super().__init__()\n",
        "\n",
        "\n",
        "        self.e1 = encoder_block(3, 64)\n",
        "        self.e2 = encoder_block(64, 128)\n",
        "        self.e3 = encoder_block(128, 256)\n",
        "        self.e4 = encoder_block(256, 512)\n",
        "\n",
        "\n",
        "        self.b = conv_block(512, 1024)\n",
        "\n",
        "\n",
        "        self.d1 = decoder_block(1024, 512)\n",
        "        self.d2 = decoder_block(512, 256)\n",
        "        self.d3 = decoder_block(256, 128)\n",
        "        self.d4 = decoder_block(128, 64)\n",
        "\n",
        "        self.d11 = decoder_block(1024, 512)\n",
        "        self.d22 = decoder_block(512, 256)\n",
        "        self.d33 = decoder_block(256, 128)\n",
        "        self.d44 = decoder_block(128, 64)\n",
        "\n",
        "\n",
        "        self.outputs = nn.Conv2d(64, 3, kernel_size=1, padding=0)\n",
        "\n",
        "    def forward(self, inputs):\n",
        "\n",
        "        s1, p1 = self.e1(inputs)\n",
        "        s2, p2 = self.e2(p1)\n",
        "        s3, p3 = self.e3(p2)\n",
        "        s4, p4 = self.e4(p3)\n",
        "\n",
        "\n",
        "        b = self.b(p4)\n",
        "\n",
        "\n",
        "        d1 = self.d1(b, s4)\n",
        "        d2 = self.d2(d1, s3)\n",
        "        d3 = self.d3(d2, s2)\n",
        "        d4 = self.d4(d3, s1)\n",
        "\n",
        "        d11 = self.d11(b, s4)\n",
        "        d22 = self.d22(d11, s3)\n",
        "        d33 = self.d33(d22, s2)\n",
        "        d44 = self.d44(d33, s1)\n",
        "\n",
        "\n",
        "        outputs1 = self.outputs(d4)\n",
        "        outputs2 = self.outputs(d44)\n",
        "\n",
        "        return outputs1, outputs2"
      ],
      "metadata": {
        "id": "gT6KzmVmZV_L"
      },
      "execution_count": null,
      "outputs": []
    },
    {
      "cell_type": "code",
      "source": [
        "# Create the U-Net model\n",
        "model = build_unet()\n",
        "\n",
        "# Define the loss function and optimizer\n",
        "criterion = nn.MSELoss()\n",
        "optimizer = torch.optim.Adam(model.parameters(), lr=0.001)"
      ],
      "metadata": {
        "id": "Mhd4YC9cZbNS"
      },
      "execution_count": null,
      "outputs": []
    },
    {
      "cell_type": "code",
      "source": [
        "length, get_item = get_my_dataset()\n",
        "\n",
        "dataset = MyDatasetObject(length, get_item)\n",
        "\n",
        "# Create a DataLoader from the dataset\n",
        "data_loader = DataLoader(dataset, batch_size=32, shuffle=True, num_workers=2)\n"
      ],
      "metadata": {
        "colab": {
          "base_uri": "https://localhost:8080/"
        },
        "id": "YoFMHZV11I4F",
        "outputId": "9f315681-9ba3-4e59-ed53-cb59be474405"
      },
      "execution_count": null,
      "outputs": [
        {
          "output_type": "stream",
          "name": "stdout",
          "text": [
            "Files already downloaded and verified\n"
          ]
        }
      ]
    },
    {
      "cell_type": "markdown",
      "source": [
        "## **Train the autoencoder**"
      ],
      "metadata": {
        "id": "lcS3xUxUZhxo"
      }
    },
    {
      "cell_type": "code",
      "source": [
        "num_epochs = 10\n",
        "for epoch in range(num_epochs):\n",
        "    for i, (inputs, (img1, img2)) in enumerate(data_loader, 0):\n",
        "        outputs1, outputs2 = model(inputs)\n",
        "        loss1 = criterion(outputs1, img1)\n",
        "        loss2 = criterion(outputs2, img2)\n",
        "        loss = (loss1 + loss2) / 2\n",
        "\n",
        "        optimizer.zero_grad()\n",
        "        loss.backward()\n",
        "        optimizer.step()\n",
        "        print('.',end='',flush=True)\n",
        "\n",
        "    print('\\r',end='')\n",
        "    print(f'Epoch : {epoch+1}/{num_epochs}, Loss : {loss.data}')"
      ],
      "metadata": {
        "id": "0IYFn56TyrPt",
        "colab": {
          "base_uri": "https://localhost:8080/"
        },
        "outputId": "35b26138-9842-42ab-f37a-2e3c6fbc64a5"
      },
      "execution_count": null,
      "outputs": [
        {
          "output_type": "stream",
          "name": "stdout",
          "text": [
            "Epoch : 1/10, Loss : 0.13804861903190613\n",
            "Epoch : 2/10, Loss : 0.10240800678730011\n",
            "Epoch : 3/10, Loss : 0.06953547894954681\n",
            "Epoch : 4/10, Loss : 0.05312111973762512\n",
            "Epoch : 5/10, Loss : 0.04707729071378708\n",
            "Epoch : 6/10, Loss : 0.035461291670799255\n",
            "Epoch : 7/10, Loss : 0.02903291955590248\n",
            "Epoch : 8/10, Loss : 0.025823332369327545\n",
            "Epoch : 9/10, Loss : 0.01703120768070221\n",
            "Epoch : 10/10, Loss : 0.01638597995042801\n"
          ]
        }
      ]
    },
    {
      "cell_type": "markdown",
      "source": [
        "## **Test the U-Net model**"
      ],
      "metadata": {
        "id": "wp0ToxSuR_r3"
      }
    },
    {
      "cell_type": "code",
      "source": [
        "length, get_item = get_my_dataset()\n",
        "\n",
        "dataset = MyDatasetObject(length, get_item)\n",
        "\n",
        "# Create a DataLoader from the dataset\n",
        "test_data_loader = DataLoader(dataset, batch_size=16, shuffle=True, num_workers=2)\n"
      ],
      "metadata": {
        "id": "PMqQC-zV10Pf",
        "colab": {
          "base_uri": "https://localhost:8080/"
        },
        "outputId": "49718286-0b02-4657-9c8d-b706088573a9"
      },
      "execution_count": null,
      "outputs": [
        {
          "output_type": "stream",
          "name": "stdout",
          "text": [
            "Files already downloaded and verified\n"
          ]
        }
      ]
    },
    {
      "cell_type": "code",
      "source": [
        "for i, (input_batch, (output_batch1, output_batch2)) in enumerate(test_data_loader, 0):\n",
        "    # Compute the mean image\n",
        "    mean_image = (output_batch1 + output_batch2) / 2\n",
        "\n",
        "    # Display the mean image\n",
        "    print(\"mean image: \")\n",
        "    mean_image_np = mean_image[0].cpu().detach().numpy()\n",
        "    plt.imshow(np.transpose(mean_image_np, (1, 2, 0)))\n",
        "    plt.show()\n",
        "\n",
        "    # Display image 1\n",
        "    print(\"image 1: \")\n",
        "    image1_np = output_batch1[0].cpu().detach().numpy()\n",
        "    plt.imshow(np.transpose(image1_np, (1, 2, 0)))\n",
        "    plt.show()\n",
        "\n",
        "    # Display image 2\n",
        "    print(\"image 2: \")\n",
        "    image2_np = output_batch2[0].cpu().detach().numpy()\n",
        "    plt.imshow(np.transpose(image2_np, (1, 2, 0)))\n",
        "    plt.show()\n",
        "\n",
        "\n",
        "\n",
        "    # Predict image 1 and image 2\n",
        "    predict1 = model(input_batch)[0][1]\n",
        "    predict2 = model(input_batch)[0][1]\n",
        "\n",
        "    # Display the predicted images\n",
        "    print(\"predicted image 1: \")\n",
        "    predict1_np = predict1.cpu().detach().numpy()\n",
        "    plt.imshow(np.transpose(predict1_np, (1, 2, 0)))\n",
        "    plt.show()\n",
        "\n",
        "    print(\"predicted image 2: \")\n",
        "    predict2_np = predict2.cpu().detach().numpy()\n",
        "    plt.imshow(np.transpose(predict2_np, (1, 2, 0)))\n",
        "    plt.show()\n",
        "\n",
        "    # fig, axs = plt.subplots(2, 2)\n",
        "    # axs[1, 0].imshow(np.transpose(image1_np, (1, 2, 0)))\n",
        "    # axs[1, 1].imshow(np.transpose(image2_np, (1, 2, 0)))\n",
        "    # axs[0, 0].imshow(np.transpose(predict1_np, (1, 2, 0)))\n",
        "    # axs[0, 1].imshow(np.transpose(predict2_np, (1, 2, 0)))\n",
        "\n",
        "    break\n",
        "\n"
      ],
      "metadata": {
        "id": "N7DWIEE7gIep",
        "colab": {
          "base_uri": "https://localhost:8080/",
          "height": 357
        },
        "outputId": "19e02461-c55d-4387-d654-432b4045065b"
      },
      "execution_count": null,
      "outputs": [
        {
          "output_type": "stream",
          "name": "stderr",
          "text": [
            "WARNING:matplotlib.image:Clipping input data to the valid range for imshow with RGB data ([0..1] for floats or [0..255] for integers).\n",
            "WARNING:matplotlib.image:Clipping input data to the valid range for imshow with RGB data ([0..1] for floats or [0..255] for integers).\n",
            "WARNING:matplotlib.image:Clipping input data to the valid range for imshow with RGB data ([0..1] for floats or [0..255] for integers).\n",
            "WARNING:matplotlib.image:Clipping input data to the valid range for imshow with RGB data ([0..1] for floats or [0..255] for integers).\n"
          ]
        },
        {
          "output_type": "display_data",
          "data": {
            "text/plain": [
              "<Figure size 432x288 with 4 Axes>"
            ],
            "image/png": "[encoded data removed]"
          },
          "metadata": {
            "needs_background": "light"
          }
        }
      ]
    },
    {
      "cell_type": "markdown",
      "source": [
        "## **Save the model parametrs**"
      ],
      "metadata": {
        "id": "58bB8X0a1-oU"
      }
    },
    {
      "cell_type": "code",
      "source": [
        "if not os.path.exists('./weights'):\n",
        "    os.mkdir('./weights')\n",
        "torch.save(model.state_dict(), \"./weights/autoencoder.pkl\")"
      ],
      "metadata": {
        "id": "i5e5vN1plHmI"
      },
      "execution_count": null,
      "outputs": []
    },
    {
      "cell_type": "code",
      "source": [],
      "metadata": {
        "id": "VkZbLdbI9B3Q"
      },
      "execution_count": null,
      "outputs": []
    }
  ]
}